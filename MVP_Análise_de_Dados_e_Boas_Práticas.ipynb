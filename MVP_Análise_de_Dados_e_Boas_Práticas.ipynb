{
  "nbformat": 4,
  "nbformat_minor": 0,
  "metadata": {
    "colab": {
      "provenance": [],
      "toc_visible": true
    },
    "kernelspec": {
      "name": "python3",
      "display_name": "Python 3"
    },
    "language_info": {
      "name": "python"
    }
  },
  "cells": [
    {
      "cell_type": "markdown",
      "source": [
        "# MVP Análise de Dados e Boas Práticas\n",
        "\n",
        "**Nome:** Maria Gabriela Ramos Neves\n",
        "\n",
        "**Matrícula:** 4052024001914\n",
        "\n",
        "**Dataset:** [Worldwide Travel Cities (Ratings and Climate)](https://www.kaggle.com/datasets/furkanima/worldwide-travel-cities-ratings-and-climate/data)\n"
      ],
      "metadata": {
        "id": "cmYX3PLx58Jg"
      }
    },
    {
      "cell_type": "markdown",
      "source": [
        "# Descrição do Problema\n",
        "\n",
        "O conjunto de dados *Worldwide Travel Cities (Ratings and Climate)*, em tradução \"Cidades de Viagens no Mundo (Avaliações e Clima)\", contém informações relacionadas a viagens sobre 560 cidades ao redor do mundo oferecendo uma rica combinação de dados estruturados e avaliações subjetivas baseadas em experiências pessoais. Desta forma, suas aplicações variam desde sistemas de recomendação, até análise climática, clusterizações diversas, pesquisa turística, planejamento de viagens e outros."
      ],
      "metadata": {
        "id": "YW_JS-EEBFaR"
      }
    },
    {
      "cell_type": "markdown",
      "source": [
        "## Hipóteses do Problema\n",
        "\n",
        "As hipóteses que tracei são as seguintes:\n",
        "\n",
        "- Existe correlação entre cidades recomendadas com *Budget Level*  = *Luxury* e *Thematic Rating* alto em *Wellness*?\n",
        "\n",
        "- Cidades com alto *Thematic Rating* em *Beaches* possuem temperaturas médias maiores (para os meses de julho e dezembro)?\n",
        "\n",
        "- Existe correlação entre cidades recomendadas com *Budget Level* = *Luxury* e *Thematic Rating* alto em *Cuisine*?"
      ],
      "metadata": {
        "id": "Gm6mOo5PBYwr"
      }
    },
    {
      "cell_type": "markdown",
      "source": [
        "## Tipo de Problema\n",
        "\n",
        "Este é um problema multifacetado, que permite diversas abordagens de aprendizado de máquina. Entre as aplicações supervisionadas, podemos citar a classificação da duração ideal de estadia em uma cidade ou a estimativa do orçamento de uma viagem. Já entre as abordagens não supervisionadas, a clusterização das cidades em grupos similares seria uma alternativa interessante para identificar padrões.\n",
        "\n",
        "\n",
        "Para simplificar e considerando a abordagem escolhida, este problema foi definido como uma tarefa de classificação do nível de orçamento (Budget Level) de uma viagem para uma cidade, com base nas características disponíveis no dataset. Dessa forma, trata-se de um problema de **aprendizado supervisionado**, onde o objetivo é prever uma variável categórica com base em dados rotulados."
      ],
      "metadata": {
        "id": "x1zNNZt6BfdF"
      }
    },
    {
      "cell_type": "markdown",
      "source": [
        "## Seleção de Dados\n",
        "\n",
        "O dataset foi escolhido dentre os disponíveis na plataforma kaggle. A principal característica levada em consideração foi a boa usabilidade, além disso o tema de fácil entendimento (já que viagens são parte do cotidiano da maior parte das pessoas) e a grande variedade de informações que levaria, potencialmente, a visualizações de dados interessantes para o estudo."
      ],
      "metadata": {
        "id": "N91bTLbiBxrm"
      }
    },
    {
      "cell_type": "markdown",
      "source": [
        "## Classes do Dataset\n",
        "\n",
        "O dataset Iris contém 560 amostras, divididos da seguinte forma:\n",
        "\n",
        "- 145 com nível de orçamento **Econômico** (*budget_level = Budget*)\n",
        "- 339 com nível de orçamento **Médio** (*budget_level = Mid-range*)\n",
        "- 76 com nível de orçamento **Luxuoso** (*budget_level = Luxury*)\n"
      ],
      "metadata": {
        "id": "FC6QJHhWBnzH"
      }
    },
    {
      "cell_type": "markdown",
      "source": [
        "## Atributos do Dataset\n",
        "\n",
        "Além disso, o dataset possui os seguintes atributos:\n",
        "- **id:** um identificador único para cada cidade.\n",
        "- **city:** o nome da cidade de destino.\n",
        "- **country:** o nome do país onde se localiza a cidade.\n",
        "- **region:** o nome do continente ou região global onde o país de localiza.\n",
        "- **short_description:** um breve resumo da atmosfera da cidade e das principais atrações.\n",
        "- **latitude:** a latitude geográfica da cidade.\n",
        "- **longitude:** a longitude geográfica da cidade.\n",
        "- **avg_temp_monthly:** um objeto json contendo a média história, a máxima e mínima temperatura para cada mês do ano.\n",
        "- **ideal_durations:** uma lista com as durações de viagem recomendadas adequadas ao destino.\n",
        "- **budget_level:** a classe a ser predita no problema. O orçamento geral estimado para uma viagem, categorizado como \"Econômico\" (Budget), \"Médio\" (Mid-range) ou \"Luxuoso\" (Luxury).\n",
        "- **culture:** um número de 1 a 5 que indica a riqueza de experiências culturais e locais históricos.\n",
        "- **adventure:** um número de 1 a 5 que indica a disponibilidade de atividades de aventura e ao ar livre.\n",
        "- **nature:** um número de 1 a 5 que indica a qualidade de paisagens naturais, parques e vida selvagem.\n",
        "- **beaches:** um número de 1 a 5 que indica a qualidade e acessibilidade das praias próximas.\n",
        "- **nightlife:** um número de 1 a 5 que indica a disponibilidade de festas, bares e vida noturna em geral.\n",
        "- **cuisine:** um número de 1 a 5 que indica a qualidade e variedade da comida local e do cenário gastronômico.\n",
        "- **wellness:** um número de 1 a 5 que indica a disponibilidade de atividades focadas no bem-estar, como spas, ioga e retiros.\n",
        "- **urban:** um número de 1 a 5 que indica a qualidade do ambiente urbano, incluindo arquitetura, acessibilidade a pé.\n",
        "- **seclusion:** um número de 1 a 5 que indica a disponibilidade de locais tranquilos e oportunidades para fugir das multidões."
      ],
      "metadata": {
        "id": "uDlGgXam9183"
      }
    },
    {
      "cell_type": "markdown",
      "source": [
        "# Importação das Bibliotecas Necessárias e Carga de Dados\n",
        "\n",
        "Esta seção consolida todas as importações de bibliotecas necessárias para a análise, visualização e pré-processamento dos dados"
      ],
      "metadata": {
        "id": "DObGnkf0bJBh"
      }
    },
    {
      "cell_type": "code",
      "source": [
        "import pandas as pd\n",
        "import matplotlib.pyplot as plt\n",
        "import seaborn as sns\n",
        "import json\n",
        "from sklearn.model_selection import train_test_split\n",
        "from sklearn.preprocessing import StandardScaler, MinMaxScaler"
      ],
      "metadata": {
        "id": "tCohWn2jbkDB"
      },
      "execution_count": 1,
      "outputs": []
    },
    {
      "cell_type": "markdown",
      "source": [
        "Download, descompresão e leitura do dataset"
      ],
      "metadata": {
        "id": "rV0OcfMz7zhS"
      }
    },
    {
      "cell_type": "code",
      "source": [
        "# Download do dataset\n",
        "!curl -L -o travel-cities.zip https://www.kaggle.com/api/v1/datasets/download/furkanima/worldwide-travel-cities-ratings-and-climate"
      ],
      "metadata": {
        "id": "BIokzI3xb8_t",
        "colab": {
          "base_uri": "https://localhost:8080/"
        },
        "outputId": "7c8d5e26-be36-4224-c61d-e97be6c5bcf5"
      },
      "execution_count": 2,
      "outputs": [
        {
          "output_type": "stream",
          "name": "stdout",
          "text": [
            "  % Total    % Received % Xferd  Average Speed   Time    Time     Time  Current\n",
            "                                 Dload  Upload   Total   Spent    Left  Speed\n",
            "  0     0    0     0    0     0      0      0 --:--:-- --:--:-- --:--:--     0\n",
            "100  114k  100  114k    0     0   313k      0 --:--:-- --:--:-- --:--:--  313k\n"
          ]
        }
      ]
    },
    {
      "cell_type": "code",
      "source": [
        "# Unzip da base\n",
        "!unzip -q ./travel-cities.zip -d ./cities_data"
      ],
      "metadata": {
        "id": "c8aIVR8puK59",
        "colab": {
          "base_uri": "https://localhost:8080/"
        },
        "outputId": "d414f73a-affe-453c-e89a-f8f7d6b79c77"
      },
      "execution_count": 3,
      "outputs": [
        {
          "output_type": "stream",
          "name": "stdout",
          "text": [
            "replace ./cities_data/Worldwide Travel Cities Dataset (Ratings and Climate).csv? [y]es, [n]o, [A]ll, [N]one, [r]ename: A\n"
          ]
        }
      ]
    },
    {
      "cell_type": "code",
      "source": [
        "df = pd.read_csv('/content/cities_data/Worldwide Travel Cities Dataset (Ratings and Climate).csv')"
      ],
      "metadata": {
        "id": "RCPbhofsE59F"
      },
      "execution_count": 4,
      "outputs": []
    },
    {
      "cell_type": "markdown",
      "source": [
        "# Análise de Dados\n",
        "\n",
        "Nesta etapa de Análise de Dados Exploratória (EDA), buscamos entender a distribuição, as relações e as características das variáveis, o que é crucial para as etapas subsequentes de pré-processamento e modelagem."
      ],
      "metadata": {
        "id": "XcHpQ9s_B4n1"
      }
    },
    {
      "cell_type": "markdown",
      "source": [
        "## Total e Tipo das Instâncias\n",
        "\n",
        "O dataset possui 560 instâncias (observações) e 19 colunas com diferentes informações, conforme explorado anteriormente. Nelas, existem dados categóricos (do tipo objeto) e numéricos (dos tipos float e inteiro), sendo que o atributo a ser predito, \"budget_level\", é categórico (do tipo objeto)."
      ],
      "metadata": {
        "id": "5kuan1F5EA8J"
      }
    },
    {
      "cell_type": "code",
      "source": [
        "print(f\"Total de instâncias: {len(df)}\")\n",
        "print(\"\\nTipos de dados por coluna:\")\n",
        "print(df.info())"
      ],
      "metadata": {
        "id": "3asH5qmbHKVe",
        "colab": {
          "base_uri": "https://localhost:8080/"
        },
        "outputId": "8dfe3e43-9102-4bb0-9f44-297b84628373"
      },
      "execution_count": 5,
      "outputs": [
        {
          "output_type": "stream",
          "name": "stdout",
          "text": [
            "Total de instâncias: 560\n",
            "\n",
            "Tipos de dados por coluna:\n",
            "<class 'pandas.core.frame.DataFrame'>\n",
            "RangeIndex: 560 entries, 0 to 559\n",
            "Data columns (total 19 columns):\n",
            " #   Column             Non-Null Count  Dtype  \n",
            "---  ------             --------------  -----  \n",
            " 0   id                 560 non-null    object \n",
            " 1   city               560 non-null    object \n",
            " 2   country            560 non-null    object \n",
            " 3   region             560 non-null    object \n",
            " 4   short_description  560 non-null    object \n",
            " 5   latitude           560 non-null    float64\n",
            " 6   longitude          560 non-null    float64\n",
            " 7   avg_temp_monthly   560 non-null    object \n",
            " 8   ideal_durations    560 non-null    object \n",
            " 9   budget_level       560 non-null    object \n",
            " 10  culture            560 non-null    int64  \n",
            " 11  adventure          560 non-null    int64  \n",
            " 12  nature             560 non-null    int64  \n",
            " 13  beaches            560 non-null    int64  \n",
            " 14  nightlife          560 non-null    int64  \n",
            " 15  cuisine            560 non-null    int64  \n",
            " 16  wellness           560 non-null    int64  \n",
            " 17  urban              560 non-null    int64  \n",
            " 18  seclusion          560 non-null    int64  \n",
            "dtypes: float64(2), int64(9), object(8)\n",
            "memory usage: 83.3+ KB\n",
            "None\n"
          ]
        }
      ]
    },
    {
      "cell_type": "markdown",
      "source": [
        "## Primeiras linhas do dataset"
      ],
      "metadata": {
        "id": "FBV_gMLpI7XF"
      }
    },
    {
      "cell_type": "code",
      "source": [
        "# Observando as primeiras linhas do dataset\n",
        "df.head()"
      ],
      "metadata": {
        "colab": {
          "base_uri": "https://localhost:8080/",
          "height": 487
        },
        "id": "c3RSnYTWI0DX",
        "outputId": "b7d2302e-165f-4585-acde-017d49f545e5"
      },
      "execution_count": 6,
      "outputs": [
        {
          "output_type": "execute_result",
          "data": {
            "text/plain": [
              "                                     id            city    country  \\\n",
              "0  c54acf38-3029-496b-8c7a-8343ad82785c           Milan      Italy   \n",
              "1  0bd12654-ed64-424e-a044-7bc574bcf078  Yasawa Islands       Fiji   \n",
              "2  73036cda-9134-46fc-a2c6-807782d59dfb        Whistler     Canada   \n",
              "3  3872c9c0-6b6e-49e1-9743-f46bfe591b86      Guanajuato     Mexico   \n",
              "4  e1ebc1b6-8798-422d-847a-22016faff3fd        Surabaya  Indonesia   \n",
              "\n",
              "          region                                  short_description  \\\n",
              "0         europe  Chic streets lined with fashion boutiques, his...   \n",
              "1        oceania  Crystal-clear waters, secluded beaches, and vi...   \n",
              "2  north_america  Snow-capped peaks and lush forests create a se...   \n",
              "3  north_america  Winding cobblestone streets and colorful facad...   \n",
              "4           asia  Bustling streets filled with the aroma of loca...   \n",
              "\n",
              "    latitude   longitude                                   avg_temp_monthly  \\\n",
              "0  45.464194    9.189635  {\"1\":{\"avg\":3.7,\"max\":7.8,\"min\":0.4},\"2\":{\"avg...   \n",
              "1 -17.290947  177.125786  {\"1\":{\"avg\":28,\"max\":30.8,\"min\":25.8},\"2\":{\"av...   \n",
              "2  50.117190 -122.954302  {\"1\":{\"avg\":-2.5,\"max\":0.4,\"min\":-5.5},\"2\":{\"a...   \n",
              "3  20.987700 -101.000000  {\"1\":{\"avg\":15.5,\"max\":22.8,\"min\":8.7},\"2\":{\"a...   \n",
              "4  -7.245972  112.737827  {\"1\":{\"avg\":28.1,\"max\":32.5,\"min\":25.5},\"2\":{\"...   \n",
              "\n",
              "                       ideal_durations budget_level  culture  adventure  \\\n",
              "0            [\"Short trip\",\"One week\"]       Luxury        5          2   \n",
              "1             [\"Long trip\",\"One week\"]       Luxury        2          4   \n",
              "2  [\"Short trip\",\"Weekend\",\"One week\"]       Luxury        3          5   \n",
              "3  [\"Weekend\",\"One week\",\"Short trip\"]    Mid-range        5          3   \n",
              "4             [\"Short trip\",\"Weekend\"]       Budget        4          3   \n",
              "\n",
              "   nature  beaches  nightlife  cuisine  wellness  urban  seclusion  \n",
              "0       2        1          4        5         3      5          2  \n",
              "1       5        5          2        3         4      1          5  \n",
              "2       5        2          3        3         4      2          4  \n",
              "3       3        1          3        4         3      4          2  \n",
              "4       3        2          3        4         3      4          2  "
            ],
            "text/html": [
              "\n",
              "  <div id=\"df-84159fd1-336d-483c-a811-f9a81ed429a8\" class=\"colab-df-container\">\n",
              "    <div>\n",
              "<style scoped>\n",
              "    .dataframe tbody tr th:only-of-type {\n",
              "        vertical-align: middle;\n",
              "    }\n",
              "\n",
              "    .dataframe tbody tr th {\n",
              "        vertical-align: top;\n",
              "    }\n",
              "\n",
              "    .dataframe thead th {\n",
              "        text-align: right;\n",
              "    }\n",
              "</style>\n",
              "<table border=\"1\" class=\"dataframe\">\n",
              "  <thead>\n",
              "    <tr style=\"text-align: right;\">\n",
              "      <th></th>\n",
              "      <th>id</th>\n",
              "      <th>city</th>\n",
              "      <th>country</th>\n",
              "      <th>region</th>\n",
              "      <th>short_description</th>\n",
              "      <th>latitude</th>\n",
              "      <th>longitude</th>\n",
              "      <th>avg_temp_monthly</th>\n",
              "      <th>ideal_durations</th>\n",
              "      <th>budget_level</th>\n",
              "      <th>culture</th>\n",
              "      <th>adventure</th>\n",
              "      <th>nature</th>\n",
              "      <th>beaches</th>\n",
              "      <th>nightlife</th>\n",
              "      <th>cuisine</th>\n",
              "      <th>wellness</th>\n",
              "      <th>urban</th>\n",
              "      <th>seclusion</th>\n",
              "    </tr>\n",
              "  </thead>\n",
              "  <tbody>\n",
              "    <tr>\n",
              "      <th>0</th>\n",
              "      <td>c54acf38-3029-496b-8c7a-8343ad82785c</td>\n",
              "      <td>Milan</td>\n",
              "      <td>Italy</td>\n",
              "      <td>europe</td>\n",
              "      <td>Chic streets lined with fashion boutiques, his...</td>\n",
              "      <td>45.464194</td>\n",
              "      <td>9.189635</td>\n",
              "      <td>{\"1\":{\"avg\":3.7,\"max\":7.8,\"min\":0.4},\"2\":{\"avg...</td>\n",
              "      <td>[\"Short trip\",\"One week\"]</td>\n",
              "      <td>Luxury</td>\n",
              "      <td>5</td>\n",
              "      <td>2</td>\n",
              "      <td>2</td>\n",
              "      <td>1</td>\n",
              "      <td>4</td>\n",
              "      <td>5</td>\n",
              "      <td>3</td>\n",
              "      <td>5</td>\n",
              "      <td>2</td>\n",
              "    </tr>\n",
              "    <tr>\n",
              "      <th>1</th>\n",
              "      <td>0bd12654-ed64-424e-a044-7bc574bcf078</td>\n",
              "      <td>Yasawa Islands</td>\n",
              "      <td>Fiji</td>\n",
              "      <td>oceania</td>\n",
              "      <td>Crystal-clear waters, secluded beaches, and vi...</td>\n",
              "      <td>-17.290947</td>\n",
              "      <td>177.125786</td>\n",
              "      <td>{\"1\":{\"avg\":28,\"max\":30.8,\"min\":25.8},\"2\":{\"av...</td>\n",
              "      <td>[\"Long trip\",\"One week\"]</td>\n",
              "      <td>Luxury</td>\n",
              "      <td>2</td>\n",
              "      <td>4</td>\n",
              "      <td>5</td>\n",
              "      <td>5</td>\n",
              "      <td>2</td>\n",
              "      <td>3</td>\n",
              "      <td>4</td>\n",
              "      <td>1</td>\n",
              "      <td>5</td>\n",
              "    </tr>\n",
              "    <tr>\n",
              "      <th>2</th>\n",
              "      <td>73036cda-9134-46fc-a2c6-807782d59dfb</td>\n",
              "      <td>Whistler</td>\n",
              "      <td>Canada</td>\n",
              "      <td>north_america</td>\n",
              "      <td>Snow-capped peaks and lush forests create a se...</td>\n",
              "      <td>50.117190</td>\n",
              "      <td>-122.954302</td>\n",
              "      <td>{\"1\":{\"avg\":-2.5,\"max\":0.4,\"min\":-5.5},\"2\":{\"a...</td>\n",
              "      <td>[\"Short trip\",\"Weekend\",\"One week\"]</td>\n",
              "      <td>Luxury</td>\n",
              "      <td>3</td>\n",
              "      <td>5</td>\n",
              "      <td>5</td>\n",
              "      <td>2</td>\n",
              "      <td>3</td>\n",
              "      <td>3</td>\n",
              "      <td>4</td>\n",
              "      <td>2</td>\n",
              "      <td>4</td>\n",
              "    </tr>\n",
              "    <tr>\n",
              "      <th>3</th>\n",
              "      <td>3872c9c0-6b6e-49e1-9743-f46bfe591b86</td>\n",
              "      <td>Guanajuato</td>\n",
              "      <td>Mexico</td>\n",
              "      <td>north_america</td>\n",
              "      <td>Winding cobblestone streets and colorful facad...</td>\n",
              "      <td>20.987700</td>\n",
              "      <td>-101.000000</td>\n",
              "      <td>{\"1\":{\"avg\":15.5,\"max\":22.8,\"min\":8.7},\"2\":{\"a...</td>\n",
              "      <td>[\"Weekend\",\"One week\",\"Short trip\"]</td>\n",
              "      <td>Mid-range</td>\n",
              "      <td>5</td>\n",
              "      <td>3</td>\n",
              "      <td>3</td>\n",
              "      <td>1</td>\n",
              "      <td>3</td>\n",
              "      <td>4</td>\n",
              "      <td>3</td>\n",
              "      <td>4</td>\n",
              "      <td>2</td>\n",
              "    </tr>\n",
              "    <tr>\n",
              "      <th>4</th>\n",
              "      <td>e1ebc1b6-8798-422d-847a-22016faff3fd</td>\n",
              "      <td>Surabaya</td>\n",
              "      <td>Indonesia</td>\n",
              "      <td>asia</td>\n",
              "      <td>Bustling streets filled with the aroma of loca...</td>\n",
              "      <td>-7.245972</td>\n",
              "      <td>112.737827</td>\n",
              "      <td>{\"1\":{\"avg\":28.1,\"max\":32.5,\"min\":25.5},\"2\":{\"...</td>\n",
              "      <td>[\"Short trip\",\"Weekend\"]</td>\n",
              "      <td>Budget</td>\n",
              "      <td>4</td>\n",
              "      <td>3</td>\n",
              "      <td>3</td>\n",
              "      <td>2</td>\n",
              "      <td>3</td>\n",
              "      <td>4</td>\n",
              "      <td>3</td>\n",
              "      <td>4</td>\n",
              "      <td>2</td>\n",
              "    </tr>\n",
              "  </tbody>\n",
              "</table>\n",
              "</div>\n",
              "    <div class=\"colab-df-buttons\">\n",
              "\n",
              "  <div class=\"colab-df-container\">\n",
              "    <button class=\"colab-df-convert\" onclick=\"convertToInteractive('df-84159fd1-336d-483c-a811-f9a81ed429a8')\"\n",
              "            title=\"Convert this dataframe to an interactive table.\"\n",
              "            style=\"display:none;\">\n",
              "\n",
              "  <svg xmlns=\"http://www.w3.org/2000/svg\" height=\"24px\" viewBox=\"0 -960 960 960\">\n",
              "    <path d=\"M120-120v-720h720v720H120Zm60-500h600v-160H180v160Zm220 220h160v-160H400v160Zm0 220h160v-160H400v160ZM180-400h160v-160H180v160Zm440 0h160v-160H620v160ZM180-180h160v-160H180v160Zm440 0h160v-160H620v160Z\"/>\n",
              "  </svg>\n",
              "    </button>\n",
              "\n",
              "  <style>\n",
              "    .colab-df-container {\n",
              "      display:flex;\n",
              "      gap: 12px;\n",
              "    }\n",
              "\n",
              "    .colab-df-convert {\n",
              "      background-color: #E8F0FE;\n",
              "      border: none;\n",
              "      border-radius: 50%;\n",
              "      cursor: pointer;\n",
              "      display: none;\n",
              "      fill: #1967D2;\n",
              "      height: 32px;\n",
              "      padding: 0 0 0 0;\n",
              "      width: 32px;\n",
              "    }\n",
              "\n",
              "    .colab-df-convert:hover {\n",
              "      background-color: #E2EBFA;\n",
              "      box-shadow: 0px 1px 2px rgba(60, 64, 67, 0.3), 0px 1px 3px 1px rgba(60, 64, 67, 0.15);\n",
              "      fill: #174EA6;\n",
              "    }\n",
              "\n",
              "    .colab-df-buttons div {\n",
              "      margin-bottom: 4px;\n",
              "    }\n",
              "\n",
              "    [theme=dark] .colab-df-convert {\n",
              "      background-color: #3B4455;\n",
              "      fill: #D2E3FC;\n",
              "    }\n",
              "\n",
              "    [theme=dark] .colab-df-convert:hover {\n",
              "      background-color: #434B5C;\n",
              "      box-shadow: 0px 1px 3px 1px rgba(0, 0, 0, 0.15);\n",
              "      filter: drop-shadow(0px 1px 2px rgba(0, 0, 0, 0.3));\n",
              "      fill: #FFFFFF;\n",
              "    }\n",
              "  </style>\n",
              "\n",
              "    <script>\n",
              "      const buttonEl =\n",
              "        document.querySelector('#df-84159fd1-336d-483c-a811-f9a81ed429a8 button.colab-df-convert');\n",
              "      buttonEl.style.display =\n",
              "        google.colab.kernel.accessAllowed ? 'block' : 'none';\n",
              "\n",
              "      async function convertToInteractive(key) {\n",
              "        const element = document.querySelector('#df-84159fd1-336d-483c-a811-f9a81ed429a8');\n",
              "        const dataTable =\n",
              "          await google.colab.kernel.invokeFunction('convertToInteractive',\n",
              "                                                    [key], {});\n",
              "        if (!dataTable) return;\n",
              "\n",
              "        const docLinkHtml = 'Like what you see? Visit the ' +\n",
              "          '<a target=\"_blank\" href=https://colab.research.google.com/notebooks/data_table.ipynb>data table notebook</a>'\n",
              "          + ' to learn more about interactive tables.';\n",
              "        element.innerHTML = '';\n",
              "        dataTable['output_type'] = 'display_data';\n",
              "        await google.colab.output.renderOutput(dataTable, element);\n",
              "        const docLink = document.createElement('div');\n",
              "        docLink.innerHTML = docLinkHtml;\n",
              "        element.appendChild(docLink);\n",
              "      }\n",
              "    </script>\n",
              "  </div>\n",
              "\n",
              "\n",
              "    <div id=\"df-de56895a-9016-41d4-9db3-5fd31dc55335\">\n",
              "      <button class=\"colab-df-quickchart\" onclick=\"quickchart('df-de56895a-9016-41d4-9db3-5fd31dc55335')\"\n",
              "                title=\"Suggest charts\"\n",
              "                style=\"display:none;\">\n",
              "\n",
              "<svg xmlns=\"http://www.w3.org/2000/svg\" height=\"24px\"viewBox=\"0 0 24 24\"\n",
              "     width=\"24px\">\n",
              "    <g>\n",
              "        <path d=\"M19 3H5c-1.1 0-2 .9-2 2v14c0 1.1.9 2 2 2h14c1.1 0 2-.9 2-2V5c0-1.1-.9-2-2-2zM9 17H7v-7h2v7zm4 0h-2V7h2v10zm4 0h-2v-4h2v4z\"/>\n",
              "    </g>\n",
              "</svg>\n",
              "      </button>\n",
              "\n",
              "<style>\n",
              "  .colab-df-quickchart {\n",
              "      --bg-color: #E8F0FE;\n",
              "      --fill-color: #1967D2;\n",
              "      --hover-bg-color: #E2EBFA;\n",
              "      --hover-fill-color: #174EA6;\n",
              "      --disabled-fill-color: #AAA;\n",
              "      --disabled-bg-color: #DDD;\n",
              "  }\n",
              "\n",
              "  [theme=dark] .colab-df-quickchart {\n",
              "      --bg-color: #3B4455;\n",
              "      --fill-color: #D2E3FC;\n",
              "      --hover-bg-color: #434B5C;\n",
              "      --hover-fill-color: #FFFFFF;\n",
              "      --disabled-bg-color: #3B4455;\n",
              "      --disabled-fill-color: #666;\n",
              "  }\n",
              "\n",
              "  .colab-df-quickchart {\n",
              "    background-color: var(--bg-color);\n",
              "    border: none;\n",
              "    border-radius: 50%;\n",
              "    cursor: pointer;\n",
              "    display: none;\n",
              "    fill: var(--fill-color);\n",
              "    height: 32px;\n",
              "    padding: 0;\n",
              "    width: 32px;\n",
              "  }\n",
              "\n",
              "  .colab-df-quickchart:hover {\n",
              "    background-color: var(--hover-bg-color);\n",
              "    box-shadow: 0 1px 2px rgba(60, 64, 67, 0.3), 0 1px 3px 1px rgba(60, 64, 67, 0.15);\n",
              "    fill: var(--button-hover-fill-color);\n",
              "  }\n",
              "\n",
              "  .colab-df-quickchart-complete:disabled,\n",
              "  .colab-df-quickchart-complete:disabled:hover {\n",
              "    background-color: var(--disabled-bg-color);\n",
              "    fill: var(--disabled-fill-color);\n",
              "    box-shadow: none;\n",
              "  }\n",
              "\n",
              "  .colab-df-spinner {\n",
              "    border: 2px solid var(--fill-color);\n",
              "    border-color: transparent;\n",
              "    border-bottom-color: var(--fill-color);\n",
              "    animation:\n",
              "      spin 1s steps(1) infinite;\n",
              "  }\n",
              "\n",
              "  @keyframes spin {\n",
              "    0% {\n",
              "      border-color: transparent;\n",
              "      border-bottom-color: var(--fill-color);\n",
              "      border-left-color: var(--fill-color);\n",
              "    }\n",
              "    20% {\n",
              "      border-color: transparent;\n",
              "      border-left-color: var(--fill-color);\n",
              "      border-top-color: var(--fill-color);\n",
              "    }\n",
              "    30% {\n",
              "      border-color: transparent;\n",
              "      border-left-color: var(--fill-color);\n",
              "      border-top-color: var(--fill-color);\n",
              "      border-right-color: var(--fill-color);\n",
              "    }\n",
              "    40% {\n",
              "      border-color: transparent;\n",
              "      border-right-color: var(--fill-color);\n",
              "      border-top-color: var(--fill-color);\n",
              "    }\n",
              "    60% {\n",
              "      border-color: transparent;\n",
              "      border-right-color: var(--fill-color);\n",
              "    }\n",
              "    80% {\n",
              "      border-color: transparent;\n",
              "      border-right-color: var(--fill-color);\n",
              "      border-bottom-color: var(--fill-color);\n",
              "    }\n",
              "    90% {\n",
              "      border-color: transparent;\n",
              "      border-bottom-color: var(--fill-color);\n",
              "    }\n",
              "  }\n",
              "</style>\n",
              "\n",
              "      <script>\n",
              "        async function quickchart(key) {\n",
              "          const quickchartButtonEl =\n",
              "            document.querySelector('#' + key + ' button');\n",
              "          quickchartButtonEl.disabled = true;  // To prevent multiple clicks.\n",
              "          quickchartButtonEl.classList.add('colab-df-spinner');\n",
              "          try {\n",
              "            const charts = await google.colab.kernel.invokeFunction(\n",
              "                'suggestCharts', [key], {});\n",
              "          } catch (error) {\n",
              "            console.error('Error during call to suggestCharts:', error);\n",
              "          }\n",
              "          quickchartButtonEl.classList.remove('colab-df-spinner');\n",
              "          quickchartButtonEl.classList.add('colab-df-quickchart-complete');\n",
              "        }\n",
              "        (() => {\n",
              "          let quickchartButtonEl =\n",
              "            document.querySelector('#df-de56895a-9016-41d4-9db3-5fd31dc55335 button');\n",
              "          quickchartButtonEl.style.display =\n",
              "            google.colab.kernel.accessAllowed ? 'block' : 'none';\n",
              "        })();\n",
              "      </script>\n",
              "    </div>\n",
              "\n",
              "    </div>\n",
              "  </div>\n"
            ],
            "application/vnd.google.colaboratory.intrinsic+json": {
              "type": "dataframe",
              "variable_name": "df",
              "summary": "{\n  \"name\": \"df\",\n  \"rows\": 560,\n  \"fields\": [\n    {\n      \"column\": \"id\",\n      \"properties\": {\n        \"dtype\": \"string\",\n        \"num_unique_values\": 560,\n        \"samples\": [\n          \"6ce8aa84-b119-4e84-aaec-fc4a2471cc9e\",\n          \"f7812d83-a0ca-428a-9b98-a6ee705b3925\",\n          \"72a44cc1-8aff-4424-95a0-81afd9aa6db1\"\n        ],\n        \"semantic_type\": \"\",\n        \"description\": \"\"\n      }\n    },\n    {\n      \"column\": \"city\",\n      \"properties\": {\n        \"dtype\": \"string\",\n        \"num_unique_values\": 559,\n        \"samples\": [\n          \"Laval\",\n          \"Punta del Este\",\n          \"Lucca\"\n        ],\n        \"semantic_type\": \"\",\n        \"description\": \"\"\n      }\n    },\n    {\n      \"column\": \"country\",\n      \"properties\": {\n        \"dtype\": \"category\",\n        \"num_unique_values\": 167,\n        \"samples\": [\n          \"Togo\",\n          \"Bangladesh\",\n          \"Malaysia\"\n        ],\n        \"semantic_type\": \"\",\n        \"description\": \"\"\n      }\n    },\n    {\n      \"column\": \"region\",\n      \"properties\": {\n        \"dtype\": \"category\",\n        \"num_unique_values\": 7,\n        \"samples\": [\n          \"europe\",\n          \"oceania\",\n          \"middle_east\"\n        ],\n        \"semantic_type\": \"\",\n        \"description\": \"\"\n      }\n    },\n    {\n      \"column\": \"short_description\",\n      \"properties\": {\n        \"dtype\": \"string\",\n        \"num_unique_values\": 560,\n        \"samples\": [\n          \"Charming streets lined with colorful shops and lively pubs create a welcoming vibe, while the nearby coast offers stunning natural beauty.\",\n          \"Charming cobblestone streets, vibrant colonial architecture, and a poignant history create a deeply moving and enriching experience by the ocean.\",\n          \"Sun-drenched plazas, the aroma of orange blossoms, and the passionate rhythm of flamenco create an enchanting and lively atmosphere.\"\n        ],\n        \"semantic_type\": \"\",\n        \"description\": \"\"\n      }\n    },\n    {\n      \"column\": \"latitude\",\n      \"properties\": {\n        \"dtype\": \"number\",\n        \"std\": 27.980021668463547,\n        \"min\": -54.807306,\n        \"max\": 78.7198519,\n        \"num_unique_values\": 552,\n        \"samples\": [\n          -19.9860951,\n          3.741877,\n          19.7589517\n        ],\n        \"semantic_type\": \"\",\n        \"description\": \"\"\n      }\n    },\n    {\n      \"column\": \"longitude\",\n      \"properties\": {\n        \"dtype\": \"number\",\n        \"std\": 78.8138029635331,\n        \"min\": -175.201808,\n        \"max\": 179.3328955,\n        \"num_unique_values\": 552,\n        \"samples\": [\n          23.4224352,\n          8.7740663,\n          99.6734592\n        ],\n        \"semantic_type\": \"\",\n        \"description\": \"\"\n      }\n    },\n    {\n      \"column\": \"avg_temp_monthly\",\n      \"properties\": {\n        \"dtype\": \"string\",\n        \"num_unique_values\": 545,\n        \"samples\": [\n          \"{\\\"1\\\":{\\\"avg\\\":11.8,\\\"max\\\":14.9,\\\"min\\\":8.1},\\\"2\\\":{\\\"avg\\\":12,\\\"max\\\":15.5,\\\"min\\\":7.3},\\\"3\\\":{\\\"avg\\\":13.5,\\\"max\\\":17.1,\\\"min\\\":8.6},\\\"4\\\":{\\\"avg\\\":17,\\\"max\\\":20.6,\\\"min\\\":11.2},\\\"5\\\":{\\\"avg\\\":20.6,\\\"max\\\":24.9,\\\"min\\\":14.4},\\\"6\\\":{\\\"avg\\\":25.7,\\\"max\\\":30.6,\\\"min\\\":19.1},\\\"7\\\":{\\\"avg\\\":28.9,\\\"max\\\":34.3,\\\"min\\\":21.8},\\\"8\\\":{\\\"avg\\\":28.7,\\\"max\\\":33.6,\\\"min\\\":22.2},\\\"9\\\":{\\\"avg\\\":24.8,\\\"max\\\":29,\\\"min\\\":19.3},\\\"10\\\":{\\\"avg\\\":20.5,\\\"max\\\":24.4,\\\"min\\\":15.3},\\\"11\\\":{\\\"avg\\\":16.6,\\\"max\\\":20.5,\\\"min\\\":12.5},\\\"12\\\":{\\\"avg\\\":13.1,\\\"max\\\":16.3,\\\"min\\\":9.9}}\",\n          \"{\\\"1\\\":{\\\"avg\\\":15,\\\"max\\\":19,\\\"min\\\":11.2},\\\"2\\\":{\\\"avg\\\":16.1,\\\"max\\\":20.7,\\\"min\\\":11.8},\\\"3\\\":{\\\"avg\\\":19.1,\\\"max\\\":24.1,\\\"min\\\":14.5},\\\"4\\\":{\\\"avg\\\":22.6,\\\"max\\\":28.8,\\\"min\\\":17},\\\"5\\\":{\\\"avg\\\":26.5,\\\"max\\\":32.9,\\\"min\\\":20.7},\\\"6\\\":{\\\"avg\\\":29.3,\\\"max\\\":35.2,\\\"min\\\":23.8},\\\"7\\\":{\\\"avg\\\":30.3,\\\"max\\\":35.7,\\\"min\\\":25.4},\\\"8\\\":{\\\"avg\\\":30.4,\\\"max\\\":35.6,\\\"min\\\":25.8},\\\"9\\\":{\\\"avg\\\":28.8,\\\"max\\\":34,\\\"min\\\":24.4},\\\"10\\\":{\\\"avg\\\":25.3,\\\"max\\\":30,\\\"min\\\":21.3},\\\"11\\\":{\\\"avg\\\":21,\\\"max\\\":25.3,\\\"min\\\":17.1},\\\"12\\\":{\\\"avg\\\":17.1,\\\"max\\\":21,\\\"min\\\":13.4}}\",\n          \"{\\\"1\\\":{\\\"avg\\\":-3.2,\\\"max\\\":-1,\\\"min\\\":-5.6},\\\"2\\\":{\\\"avg\\\":-2.3,\\\"max\\\":0.2,\\\"min\\\":-4.8},\\\"3\\\":{\\\"avg\\\":0.5,\\\"max\\\":4.7,\\\"min\\\":-2.6},\\\"4\\\":{\\\"avg\\\":5.8,\\\"max\\\":11,\\\"min\\\":1.2},\\\"5\\\":{\\\"avg\\\":11.8,\\\"max\\\":17.4,\\\"min\\\":5.5},\\\"6\\\":{\\\"avg\\\":16.8,\\\"max\\\":22.2,\\\"min\\\":10.8},\\\"7\\\":{\\\"avg\\\":17.9,\\\"max\\\":22.8,\\\"min\\\":13},\\\"8\\\":{\\\"avg\\\":17.3,\\\"max\\\":22.4,\\\"min\\\":12.7},\\\"9\\\":{\\\"avg\\\":12.7,\\\"max\\\":17.4,\\\"min\\\":9},\\\"10\\\":{\\\"avg\\\":6.6,\\\"max\\\":9.9,\\\"min\\\":3.8},\\\"11\\\":{\\\"avg\\\":2.4,\\\"max\\\":4.2,\\\"min\\\":0.5},\\\"12\\\":{\\\"avg\\\":-1.1,\\\"max\\\":0.7,\\\"min\\\":-3.3}}\"\n        ],\n        \"semantic_type\": \"\",\n        \"description\": \"\"\n      }\n    },\n    {\n      \"column\": \"ideal_durations\",\n      \"properties\": {\n        \"dtype\": \"category\",\n        \"num_unique_values\": 21,\n        \"samples\": [\n          \"[\\\"Short trip\\\",\\\"One week\\\"]\",\n          \"[\\\"Long trip\\\",\\\"Short trip\\\",\\\"One week\\\"]\",\n          \"[\\\"Weekend\\\",\\\"Day trip\\\"]\"\n        ],\n        \"semantic_type\": \"\",\n        \"description\": \"\"\n      }\n    },\n    {\n      \"column\": \"budget_level\",\n      \"properties\": {\n        \"dtype\": \"category\",\n        \"num_unique_values\": 3,\n        \"samples\": [\n          \"Luxury\",\n          \"Mid-range\",\n          \"Budget\"\n        ],\n        \"semantic_type\": \"\",\n        \"description\": \"\"\n      }\n    },\n    {\n      \"column\": \"culture\",\n      \"properties\": {\n        \"dtype\": \"number\",\n        \"std\": 0,\n        \"min\": 2,\n        \"max\": 5,\n        \"num_unique_values\": 4,\n        \"samples\": [\n          2,\n          4,\n          5\n        ],\n        \"semantic_type\": \"\",\n        \"description\": \"\"\n      }\n    },\n    {\n      \"column\": \"adventure\",\n      \"properties\": {\n        \"dtype\": \"number\",\n        \"std\": 0,\n        \"min\": 2,\n        \"max\": 5,\n        \"num_unique_values\": 4,\n        \"samples\": [\n          4,\n          3,\n          2\n        ],\n        \"semantic_type\": \"\",\n        \"description\": \"\"\n      }\n    },\n    {\n      \"column\": \"nature\",\n      \"properties\": {\n        \"dtype\": \"number\",\n        \"std\": 0,\n        \"min\": 2,\n        \"max\": 5,\n        \"num_unique_values\": 4,\n        \"samples\": [\n          5,\n          4,\n          2\n        ],\n        \"semantic_type\": \"\",\n        \"description\": \"\"\n      }\n    },\n    {\n      \"column\": \"beaches\",\n      \"properties\": {\n        \"dtype\": \"number\",\n        \"std\": 1,\n        \"min\": 1,\n        \"max\": 5,\n        \"num_unique_values\": 5,\n        \"samples\": [\n          5,\n          4,\n          2\n        ],\n        \"semantic_type\": \"\",\n        \"description\": \"\"\n      }\n    },\n    {\n      \"column\": \"nightlife\",\n      \"properties\": {\n        \"dtype\": \"number\",\n        \"std\": 0,\n        \"min\": 1,\n        \"max\": 5,\n        \"num_unique_values\": 5,\n        \"samples\": [\n          2,\n          5,\n          3\n        ],\n        \"semantic_type\": \"\",\n        \"description\": \"\"\n      }\n    },\n    {\n      \"column\": \"cuisine\",\n      \"properties\": {\n        \"dtype\": \"number\",\n        \"std\": 0,\n        \"min\": 2,\n        \"max\": 5,\n        \"num_unique_values\": 4,\n        \"samples\": [\n          3,\n          2,\n          5\n        ],\n        \"semantic_type\": \"\",\n        \"description\": \"\"\n      }\n    },\n    {\n      \"column\": \"wellness\",\n      \"properties\": {\n        \"dtype\": \"number\",\n        \"std\": 0,\n        \"min\": 2,\n        \"max\": 5,\n        \"num_unique_values\": 4,\n        \"samples\": [\n          4,\n          5,\n          3\n        ],\n        \"semantic_type\": \"\",\n        \"description\": \"\"\n      }\n    },\n    {\n      \"column\": \"urban\",\n      \"properties\": {\n        \"dtype\": \"number\",\n        \"std\": 1,\n        \"min\": 1,\n        \"max\": 5,\n        \"num_unique_values\": 5,\n        \"samples\": [\n          1,\n          3,\n          2\n        ],\n        \"semantic_type\": \"\",\n        \"description\": \"\"\n      }\n    },\n    {\n      \"column\": \"seclusion\",\n      \"properties\": {\n        \"dtype\": \"number\",\n        \"std\": 0,\n        \"min\": 1,\n        \"max\": 5,\n        \"num_unique_values\": 5,\n        \"samples\": [\n          5,\n          1,\n          4\n        ],\n        \"semantic_type\": \"\",\n        \"description\": \"\"\n      }\n    }\n  ]\n}"
            }
          },
          "metadata": {},
          "execution_count": 6
        }
      ]
    },
    {
      "cell_type": "markdown",
      "source": [
        "Ao observar as primeiras linhas do dataset em conjunto com os tipos de dados vistos na seção anterior, o que mais chama a atenção é a diversidade de tipos de dados que está presente nele, incluindo listas, json, textos, floats, inteiros e palavras."
      ],
      "metadata": {
        "id": "ui2an6WXJBLE"
      }
    },
    {
      "cell_type": "code",
      "source": [
        "df.groupby('budget_level')['id'].count()"
      ],
      "metadata": {
        "colab": {
          "base_uri": "https://localhost:8080/",
          "height": 210
        },
        "id": "GIgFBSNJJnf3",
        "outputId": "12935912-2d73-4c65-e215-f131f9a168bd"
      },
      "execution_count": 7,
      "outputs": [
        {
          "output_type": "execute_result",
          "data": {
            "text/plain": [
              "budget_level\n",
              "Budget       145\n",
              "Luxury        76\n",
              "Mid-range    339\n",
              "Name: id, dtype: int64"
            ],
            "text/html": [
              "<div>\n",
              "<style scoped>\n",
              "    .dataframe tbody tr th:only-of-type {\n",
              "        vertical-align: middle;\n",
              "    }\n",
              "\n",
              "    .dataframe tbody tr th {\n",
              "        vertical-align: top;\n",
              "    }\n",
              "\n",
              "    .dataframe thead th {\n",
              "        text-align: right;\n",
              "    }\n",
              "</style>\n",
              "<table border=\"1\" class=\"dataframe\">\n",
              "  <thead>\n",
              "    <tr style=\"text-align: right;\">\n",
              "      <th></th>\n",
              "      <th>id</th>\n",
              "    </tr>\n",
              "    <tr>\n",
              "      <th>budget_level</th>\n",
              "      <th></th>\n",
              "    </tr>\n",
              "  </thead>\n",
              "  <tbody>\n",
              "    <tr>\n",
              "      <th>Budget</th>\n",
              "      <td>145</td>\n",
              "    </tr>\n",
              "    <tr>\n",
              "      <th>Luxury</th>\n",
              "      <td>76</td>\n",
              "    </tr>\n",
              "    <tr>\n",
              "      <th>Mid-range</th>\n",
              "      <td>339</td>\n",
              "    </tr>\n",
              "  </tbody>\n",
              "</table>\n",
              "</div><br><label><b>dtype:</b> int64</label>"
            ]
          },
          "metadata": {},
          "execution_count": 7
        }
      ]
    },
    {
      "source": [
        "# distribuição das classes\n",
        "\n",
        "df.groupby('budget_level').size().plot(kind='bar', color=sns.palettes.mpl_palette('Dark2'))\n",
        "plt.gca().spines[['top', 'right',]].set_visible(False)\n",
        "plt.title('Distribuição dos Níveis de Orçamento')\n",
        "plt.xlabel('Nível de Orçamento')\n",
        "plt.ylabel('Contagem')\n",
        "plt.show()"
      ],
      "cell_type": "code",
      "execution_count": 8,
      "outputs": [
        {
          "output_type": "display_data",
          "data": {
            "text/plain": [
              "<Figure size 640x480 with 1 Axes>"
            ],
            "image/png": "[encoded data removed]"
          },
          "metadata": {}
        }
      ],
      "metadata": {
        "id": "R0gXYqwcup-A",
        "outputId": "39938761-d25a-4134-e930-e2d1aedd7558",
        "colab": {
          "base_uri": "https://localhost:8080/",
          "height": 529
        }
      }
    },
    {
      "cell_type": "markdown",
      "source": [
        "O gráfico de barras mostra que cada classe aparece com uma frequência diferente no dataset, demonstrando desbalanceamento que pode necessitar de tratamento futuro. A maior e a menor classe tem 263 amostras de diferença, o que é considerável."
      ],
      "metadata": {
        "id": "OMdljRT8GdwF"
      }
    },
    {
      "cell_type": "markdown",
      "source": [
        "### Tratamento da coluna `avg_temp_monthly` para análises\n",
        "\n",
        "A coluna *avg_temp_monthly* é composta por um json que possui as temperaturas média, mínima e máxima para cada mês do ano em cada cidade do dataset. Sendo assim, esta é uma coluna complexa de se analisar e entender.\n",
        "\n",
        "Para melhor conduzir nosso estudo, criarei a coluna *avg_temp_july* com a temperatura média para julho, último mês do primeiro semestre e com alto índice de viagens para as pessoas do hemisfério norte e a coluna *avg_temp_dec* com a temperatura média para dezembro, último mês do segundo semestre e com alto número de viagens para as pessoas do hemisfério sul."
      ],
      "metadata": {
        "id": "BsY1H9HRUDOC"
      }
    },
    {
      "cell_type": "code",
      "source": [
        "df[\"avg_temp_july\"] = df[\"avg_temp_monthly\"].apply(lambda x: json.loads(x)[\"7\"][\"avg\"])\n",
        "df[\"avg_temp_dec\"] = df[\"avg_temp_monthly\"].apply(lambda x: json.loads(x)[\"12\"][\"avg\"])"
      ],
      "metadata": {
        "id": "ZM0DAMQEUQu4"
      },
      "execution_count": 9,
      "outputs": []
    },
    {
      "cell_type": "code",
      "source": [
        "df.head()"
      ],
      "metadata": {
        "colab": {
          "base_uri": "https://localhost:8080/",
          "height": 516
        },
        "id": "dklDYX2VUQmt",
        "outputId": "25577228-e9ac-412a-dec3-952830ddc644"
      },
      "execution_count": 10,
      "outputs": [
        {
          "output_type": "execute_result",
          "data": {
            "text/plain": [
              "                                     id            city    country  \\\n",
              "0  c54acf38-3029-496b-8c7a-8343ad82785c           Milan      Italy   \n",
              "1  0bd12654-ed64-424e-a044-7bc574bcf078  Yasawa Islands       Fiji   \n",
              "2  73036cda-9134-46fc-a2c6-807782d59dfb        Whistler     Canada   \n",
              "3  3872c9c0-6b6e-49e1-9743-f46bfe591b86      Guanajuato     Mexico   \n",
              "4  e1ebc1b6-8798-422d-847a-22016faff3fd        Surabaya  Indonesia   \n",
              "\n",
              "          region                                  short_description  \\\n",
              "0         europe  Chic streets lined with fashion boutiques, his...   \n",
              "1        oceania  Crystal-clear waters, secluded beaches, and vi...   \n",
              "2  north_america  Snow-capped peaks and lush forests create a se...   \n",
              "3  north_america  Winding cobblestone streets and colorful facad...   \n",
              "4           asia  Bustling streets filled with the aroma of loca...   \n",
              "\n",
              "    latitude   longitude                                   avg_temp_monthly  \\\n",
              "0  45.464194    9.189635  {\"1\":{\"avg\":3.7,\"max\":7.8,\"min\":0.4},\"2\":{\"avg...   \n",
              "1 -17.290947  177.125786  {\"1\":{\"avg\":28,\"max\":30.8,\"min\":25.8},\"2\":{\"av...   \n",
              "2  50.117190 -122.954302  {\"1\":{\"avg\":-2.5,\"max\":0.4,\"min\":-5.5},\"2\":{\"a...   \n",
              "3  20.987700 -101.000000  {\"1\":{\"avg\":15.5,\"max\":22.8,\"min\":8.7},\"2\":{\"a...   \n",
              "4  -7.245972  112.737827  {\"1\":{\"avg\":28.1,\"max\":32.5,\"min\":25.5},\"2\":{\"...   \n",
              "\n",
              "                       ideal_durations budget_level  ...  adventure  nature  \\\n",
              "0            [\"Short trip\",\"One week\"]       Luxury  ...          2       2   \n",
              "1             [\"Long trip\",\"One week\"]       Luxury  ...          4       5   \n",
              "2  [\"Short trip\",\"Weekend\",\"One week\"]       Luxury  ...          5       5   \n",
              "3  [\"Weekend\",\"One week\",\"Short trip\"]    Mid-range  ...          3       3   \n",
              "4             [\"Short trip\",\"Weekend\"]       Budget  ...          3       3   \n",
              "\n",
              "   beaches  nightlife  cuisine  wellness  urban  seclusion  avg_temp_july  \\\n",
              "0        1          4        5         3      5          2           25.8   \n",
              "1        5          2        3         4      1          5           26.1   \n",
              "2        2          3        3         4      2          4           18.2   \n",
              "3        1          3        4         3      4          2           20.7   \n",
              "4        2          3        4         3      4          2           28.2   \n",
              "\n",
              "   avg_temp_dec  \n",
              "0           4.7  \n",
              "1          28.2  \n",
              "2          -1.8  \n",
              "3          14.9  \n",
              "4          28.7  \n",
              "\n",
              "[5 rows x 21 columns]"
            ],
            "text/html": [
              "\n",
              "  <div id=\"df-50062c09-f87b-4880-b8e3-15aaaaca7e2f\" class=\"colab-df-container\">\n",
              "    <div>\n",
              "<style scoped>\n",
              "    .dataframe tbody tr th:only-of-type {\n",
              "        vertical-align: middle;\n",
              "    }\n",
              "\n",
              "    .dataframe tbody tr th {\n",
              "        vertical-align: top;\n",
              "    }\n",
              "\n",
              "    .dataframe thead th {\n",
              "        text-align: right;\n",
              "    }\n",
              "</style>\n",
              "<table border=\"1\" class=\"dataframe\">\n",
              "  <thead>\n",
              "    <tr style=\"text-align: right;\">\n",
              "      <th></th>\n",
              "      <th>id</th>\n",
              "      <th>city</th>\n",
              "      <th>country</th>\n",
              "      <th>region</th>\n",
              "      <th>short_description</th>\n",
              "      <th>latitude</th>\n",
              "      <th>longitude</th>\n",
              "      <th>avg_temp_monthly</th>\n",
              "      <th>ideal_durations</th>\n",
              "      <th>budget_level</th>\n",
              "      <th>...</th>\n",
              "      <th>adventure</th>\n",
              "      <th>nature</th>\n",
              "      <th>beaches</th>\n",
              "      <th>nightlife</th>\n",
              "      <th>cuisine</th>\n",
              "      <th>wellness</th>\n",
              "      <th>urban</th>\n",
              "      <th>seclusion</th>\n",
              "      <th>avg_temp_july</th>\n",
              "      <th>avg_temp_dec</th>\n",
              "    </tr>\n",
              "  </thead>\n",
              "  <tbody>\n",
              "    <tr>\n",
              "      <th>0</th>\n",
              "      <td>c54acf38-3029-496b-8c7a-8343ad82785c</td>\n",
              "      <td>Milan</td>\n",
              "      <td>Italy</td>\n",
              "      <td>europe</td>\n",
              "      <td>Chic streets lined with fashion boutiques, his...</td>\n",
              "      <td>45.464194</td>\n",
              "      <td>9.189635</td>\n",
              "      <td>{\"1\":{\"avg\":3.7,\"max\":7.8,\"min\":0.4},\"2\":{\"avg...</td>\n",
              "      <td>[\"Short trip\",\"One week\"]</td>\n",
              "      <td>Luxury</td>\n",
              "      <td>...</td>\n",
              "      <td>2</td>\n",
              "      <td>2</td>\n",
              "      <td>1</td>\n",
              "      <td>4</td>\n",
              "      <td>5</td>\n",
              "      <td>3</td>\n",
              "      <td>5</td>\n",
              "      <td>2</td>\n",
              "      <td>25.8</td>\n",
              "      <td>4.7</td>\n",
              "    </tr>\n",
              "    <tr>\n",
              "      <th>1</th>\n",
              "      <td>0bd12654-ed64-424e-a044-7bc574bcf078</td>\n",
              "      <td>Yasawa Islands</td>\n",
              "      <td>Fiji</td>\n",
              "      <td>oceania</td>\n",
              "      <td>Crystal-clear waters, secluded beaches, and vi...</td>\n",
              "      <td>-17.290947</td>\n",
              "      <td>177.125786</td>\n",
              "      <td>{\"1\":{\"avg\":28,\"max\":30.8,\"min\":25.8},\"2\":{\"av...</td>\n",
              "      <td>[\"Long trip\",\"One week\"]</td>\n",
              "      <td>Luxury</td>\n",
              "      <td>...</td>\n",
              "      <td>4</td>\n",
              "      <td>5</td>\n",
              "      <td>5</td>\n",
              "      <td>2</td>\n",
              "      <td>3</td>\n",
              "      <td>4</td>\n",
              "      <td>1</td>\n",
              "      <td>5</td>\n",
              "      <td>26.1</td>\n",
              "      <td>28.2</td>\n",
              "    </tr>\n",
              "    <tr>\n",
              "      <th>2</th>\n",
              "      <td>73036cda-9134-46fc-a2c6-807782d59dfb</td>\n",
              "      <td>Whistler</td>\n",
              "      <td>Canada</td>\n",
              "      <td>north_america</td>\n",
              "      <td>Snow-capped peaks and lush forests create a se...</td>\n",
              "      <td>50.117190</td>\n",
              "      <td>-122.954302</td>\n",
              "      <td>{\"1\":{\"avg\":-2.5,\"max\":0.4,\"min\":-5.5},\"2\":{\"a...</td>\n",
              "      <td>[\"Short trip\",\"Weekend\",\"One week\"]</td>\n",
              "      <td>Luxury</td>\n",
              "      <td>...</td>\n",
              "      <td>5</td>\n",
              "      <td>5</td>\n",
              "      <td>2</td>\n",
              "      <td>3</td>\n",
              "      <td>3</td>\n",
              "      <td>4</td>\n",
              "      <td>2</td>\n",
              "      <td>4</td>\n",
              "      <td>18.2</td>\n",
              "      <td>-1.8</td>\n",
              "    </tr>\n",
              "    <tr>\n",
              "      <th>3</th>\n",
              "      <td>3872c9c0-6b6e-49e1-9743-f46bfe591b86</td>\n",
              "      <td>Guanajuato</td>\n",
              "      <td>Mexico</td>\n",
              "      <td>north_america</td>\n",
              "      <td>Winding cobblestone streets and colorful facad...</td>\n",
              "      <td>20.987700</td>\n",
              "      <td>-101.000000</td>\n",
              "      <td>{\"1\":{\"avg\":15.5,\"max\":22.8,\"min\":8.7},\"2\":{\"a...</td>\n",
              "      <td>[\"Weekend\",\"One week\",\"Short trip\"]</td>\n",
              "      <td>Mid-range</td>\n",
              "      <td>...</td>\n",
              "      <td>3</td>\n",
              "      <td>3</td>\n",
              "      <td>1</td>\n",
              "      <td>3</td>\n",
              "      <td>4</td>\n",
              "      <td>3</td>\n",
              "      <td>4</td>\n",
              "      <td>2</td>\n",
              "      <td>20.7</td>\n",
              "      <td>14.9</td>\n",
              "    </tr>\n",
              "    <tr>\n",
              "      <th>4</th>\n",
              "      <td>e1ebc1b6-8798-422d-847a-22016faff3fd</td>\n",
              "      <td>Surabaya</td>\n",
              "      <td>Indonesia</td>\n",
              "      <td>asia</td>\n",
              "      <td>Bustling streets filled with the aroma of loca...</td>\n",
              "      <td>-7.245972</td>\n",
              "      <td>112.737827</td>\n",
              "      <td>{\"1\":{\"avg\":28.1,\"max\":32.5,\"min\":25.5},\"2\":{\"...</td>\n",
              "      <td>[\"Short trip\",\"Weekend\"]</td>\n",
              "      <td>Budget</td>\n",
              "      <td>...</td>\n",
              "      <td>3</td>\n",
              "      <td>3</td>\n",
              "      <td>2</td>\n",
              "      <td>3</td>\n",
              "      <td>4</td>\n",
              "      <td>3</td>\n",
              "      <td>4</td>\n",
              "      <td>2</td>\n",
              "      <td>28.2</td>\n",
              "      <td>28.7</td>\n",
              "    </tr>\n",
              "  </tbody>\n",
              "</table>\n",
              "<p>5 rows × 21 columns</p>\n",
              "</div>\n",
              "    <div class=\"colab-df-buttons\">\n",
              "\n",
              "  <div class=\"colab-df-container\">\n",
              "    <button class=\"colab-df-convert\" onclick=\"convertToInteractive('df-50062c09-f87b-4880-b8e3-15aaaaca7e2f')\"\n",
              "            title=\"Convert this dataframe to an interactive table.\"\n",
              "            style=\"display:none;\">\n",
              "\n",
              "  <svg xmlns=\"http://www.w3.org/2000/svg\" height=\"24px\" viewBox=\"0 -960 960 960\">\n",
              "    <path d=\"M120-120v-720h720v720H120Zm60-500h600v-160H180v160Zm220 220h160v-160H400v160Zm0 220h160v-160H400v160ZM180-400h160v-160H180v160Zm440 0h160v-160H620v160ZM180-180h160v-160H180v160Zm440 0h160v-160H620v160Z\"/>\n",
              "  </svg>\n",
              "    </button>\n",
              "\n",
              "  <style>\n",
              "    .colab-df-container {\n",
              "      display:flex;\n",
              "      gap: 12px;\n",
              "    }\n",
              "\n",
              "    .colab-df-convert {\n",
              "      background-color: #E8F0FE;\n",
              "      border: none;\n",
              "      border-radius: 50%;\n",
              "      cursor: pointer;\n",
              "      display: none;\n",
              "      fill: #1967D2;\n",
              "      height: 32px;\n",
              "      padding: 0 0 0 0;\n",
              "      width: 32px;\n",
              "    }\n",
              "\n",
              "    .colab-df-convert:hover {\n",
              "      background-color: #E2EBFA;\n",
              "      box-shadow: 0px 1px 2px rgba(60, 64, 67, 0.3), 0px 1px 3px 1px rgba(60, 64, 67, 0.15);\n",
              "      fill: #174EA6;\n",
              "    }\n",
              "\n",
              "    .colab-df-buttons div {\n",
              "      margin-bottom: 4px;\n",
              "    }\n",
              "\n",
              "    [theme=dark] .colab-df-convert {\n",
              "      background-color: #3B4455;\n",
              "      fill: #D2E3FC;\n",
              "    }\n",
              "\n",
              "    [theme=dark] .colab-df-convert:hover {\n",
              "      background-color: #434B5C;\n",
              "      box-shadow: 0px 1px 3px 1px rgba(0, 0, 0, 0.15);\n",
              "      filter: drop-shadow(0px 1px 2px rgba(0, 0, 0, 0.3));\n",
              "      fill: #FFFFFF;\n",
              "    }\n",
              "  </style>\n",
              "\n",
              "    <script>\n",
              "      const buttonEl =\n",
              "        document.querySelector('#df-50062c09-f87b-4880-b8e3-15aaaaca7e2f button.colab-df-convert');\n",
              "      buttonEl.style.display =\n",
              "        google.colab.kernel.accessAllowed ? 'block' : 'none';\n",
              "\n",
              "      async function convertToInteractive(key) {\n",
              "        const element = document.querySelector('#df-50062c09-f87b-4880-b8e3-15aaaaca7e2f');\n",
              "        const dataTable =\n",
              "          await google.colab.kernel.invokeFunction('convertToInteractive',\n",
              "                                                    [key], {});\n",
              "        if (!dataTable) return;\n",
              "\n",
              "        const docLinkHtml = 'Like what you see? Visit the ' +\n",
              "          '<a target=\"_blank\" href=https://colab.research.google.com/notebooks/data_table.ipynb>data table notebook</a>'\n",
              "          + ' to learn more about interactive tables.';\n",
              "        element.innerHTML = '';\n",
              "        dataTable['output_type'] = 'display_data';\n",
              "        await google.colab.output.renderOutput(dataTable, element);\n",
              "        const docLink = document.createElement('div');\n",
              "        docLink.innerHTML = docLinkHtml;\n",
              "        element.appendChild(docLink);\n",
              "      }\n",
              "    </script>\n",
              "  </div>\n",
              "\n",
              "\n",
              "    <div id=\"df-2c10952f-7ca1-4475-b803-59cec4231df7\">\n",
              "      <button class=\"colab-df-quickchart\" onclick=\"quickchart('df-2c10952f-7ca1-4475-b803-59cec4231df7')\"\n",
              "                title=\"Suggest charts\"\n",
              "                style=\"display:none;\">\n",
              "\n",
              "<svg xmlns=\"http://www.w3.org/2000/svg\" height=\"24px\"viewBox=\"0 0 24 24\"\n",
              "     width=\"24px\">\n",
              "    <g>\n",
              "        <path d=\"M19 3H5c-1.1 0-2 .9-2 2v14c0 1.1.9 2 2 2h14c1.1 0 2-.9 2-2V5c0-1.1-.9-2-2-2zM9 17H7v-7h2v7zm4 0h-2V7h2v10zm4 0h-2v-4h2v4z\"/>\n",
              "    </g>\n",
              "</svg>\n",
              "      </button>\n",
              "\n",
              "<style>\n",
              "  .colab-df-quickchart {\n",
              "      --bg-color: #E8F0FE;\n",
              "      --fill-color: #1967D2;\n",
              "      --hover-bg-color: #E2EBFA;\n",
              "      --hover-fill-color: #174EA6;\n",
              "      --disabled-fill-color: #AAA;\n",
              "      --disabled-bg-color: #DDD;\n",
              "  }\n",
              "\n",
              "  [theme=dark] .colab-df-quickchart {\n",
              "      --bg-color: #3B4455;\n",
              "      --fill-color: #D2E3FC;\n",
              "      --hover-bg-color: #434B5C;\n",
              "      --hover-fill-color: #FFFFFF;\n",
              "      --disabled-bg-color: #3B4455;\n",
              "      --disabled-fill-color: #666;\n",
              "  }\n",
              "\n",
              "  .colab-df-quickchart {\n",
              "    background-color: var(--bg-color);\n",
              "    border: none;\n",
              "    border-radius: 50%;\n",
              "    cursor: pointer;\n",
              "    display: none;\n",
              "    fill: var(--fill-color);\n",
              "    height: 32px;\n",
              "    padding: 0;\n",
              "    width: 32px;\n",
              "  }\n",
              "\n",
              "  .colab-df-quickchart:hover {\n",
              "    background-color: var(--hover-bg-color);\n",
              "    box-shadow: 0 1px 2px rgba(60, 64, 67, 0.3), 0 1px 3px 1px rgba(60, 64, 67, 0.15);\n",
              "    fill: var(--button-hover-fill-color);\n",
              "  }\n",
              "\n",
              "  .colab-df-quickchart-complete:disabled,\n",
              "  .colab-df-quickchart-complete:disabled:hover {\n",
              "    background-color: var(--disabled-bg-color);\n",
              "    fill: var(--disabled-fill-color);\n",
              "    box-shadow: none;\n",
              "  }\n",
              "\n",
              "  .colab-df-spinner {\n",
              "    border: 2px solid var(--fill-color);\n",
              "    border-color: transparent;\n",
              "    border-bottom-color: var(--fill-color);\n",
              "    animation:\n",
              "      spin 1s steps(1) infinite;\n",
              "  }\n",
              "\n",
              "  @keyframes spin {\n",
              "    0% {\n",
              "      border-color: transparent;\n",
              "      border-bottom-color: var(--fill-color);\n",
              "      border-left-color: var(--fill-color);\n",
              "    }\n",
              "    20% {\n",
              "      border-color: transparent;\n",
              "      border-left-color: var(--fill-color);\n",
              "      border-top-color: var(--fill-color);\n",
              "    }\n",
              "    30% {\n",
              "      border-color: transparent;\n",
              "      border-left-color: var(--fill-color);\n",
              "      border-top-color: var(--fill-color);\n",
              "      border-right-color: var(--fill-color);\n",
              "    }\n",
              "    40% {\n",
              "      border-color: transparent;\n",
              "      border-right-color: var(--fill-color);\n",
              "      border-top-color: var(--fill-color);\n",
              "    }\n",
              "    60% {\n",
              "      border-color: transparent;\n",
              "      border-right-color: var(--fill-color);\n",
              "    }\n",
              "    80% {\n",
              "      border-color: transparent;\n",
              "      border-right-color: var(--fill-color);\n",
              "      border-bottom-color: var(--fill-color);\n",
              "    }\n",
              "    90% {\n",
              "      border-color: transparent;\n",
              "      border-bottom-color: var(--fill-color);\n",
              "    }\n",
              "  }\n",
              "</style>\n",
              "\n",
              "      <script>\n",
              "        async function quickchart(key) {\n",
              "          const quickchartButtonEl =\n",
              "            document.querySelector('#' + key + ' button');\n",
              "          quickchartButtonEl.disabled = true;  // To prevent multiple clicks.\n",
              "          quickchartButtonEl.classList.add('colab-df-spinner');\n",
              "          try {\n",
              "            const charts = await google.colab.kernel.invokeFunction(\n",
              "                'suggestCharts', [key], {});\n",
              "          } catch (error) {\n",
              "            console.error('Error during call to suggestCharts:', error);\n",
              "          }\n",
              "          quickchartButtonEl.classList.remove('colab-df-spinner');\n",
              "          quickchartButtonEl.classList.add('colab-df-quickchart-complete');\n",
              "        }\n",
              "        (() => {\n",
              "          let quickchartButtonEl =\n",
              "            document.querySelector('#df-2c10952f-7ca1-4475-b803-59cec4231df7 button');\n",
              "          quickchartButtonEl.style.display =\n",
              "            google.colab.kernel.accessAllowed ? 'block' : 'none';\n",
              "        })();\n",
              "      </script>\n",
              "    </div>\n",
              "\n",
              "    </div>\n",
              "  </div>\n"
            ],
            "application/vnd.google.colaboratory.intrinsic+json": {
              "type": "dataframe",
              "variable_name": "df"
            }
          },
          "metadata": {},
          "execution_count": 10
        }
      ]
    },
    {
      "cell_type": "markdown",
      "source": [
        "## Checagem de valores faltantes, discrepantes ou inconsistentes"
      ],
      "metadata": {
        "id": "UAxUFMjmJ27u"
      }
    },
    {
      "cell_type": "code",
      "source": [
        "# Busca por valores faltantes em todas as colunas do dataset\n",
        "df.isnull().sum()"
      ],
      "metadata": {
        "colab": {
          "base_uri": "https://localhost:8080/",
          "height": 743
        },
        "id": "Njl7gNiOMhMk",
        "outputId": "5e6d2230-b76d-44b4-d519-caba60c37853"
      },
      "execution_count": 11,
      "outputs": [
        {
          "output_type": "execute_result",
          "data": {
            "text/plain": [
              "id                   0\n",
              "city                 0\n",
              "country              0\n",
              "region               0\n",
              "short_description    0\n",
              "latitude             0\n",
              "longitude            0\n",
              "avg_temp_monthly     0\n",
              "ideal_durations      0\n",
              "budget_level         0\n",
              "culture              0\n",
              "adventure            0\n",
              "nature               0\n",
              "beaches              0\n",
              "nightlife            0\n",
              "cuisine              0\n",
              "wellness             0\n",
              "urban                0\n",
              "seclusion            0\n",
              "avg_temp_july        0\n",
              "avg_temp_dec         0\n",
              "dtype: int64"
            ],
            "text/html": [
              "<div>\n",
              "<style scoped>\n",
              "    .dataframe tbody tr th:only-of-type {\n",
              "        vertical-align: middle;\n",
              "    }\n",
              "\n",
              "    .dataframe tbody tr th {\n",
              "        vertical-align: top;\n",
              "    }\n",
              "\n",
              "    .dataframe thead th {\n",
              "        text-align: right;\n",
              "    }\n",
              "</style>\n",
              "<table border=\"1\" class=\"dataframe\">\n",
              "  <thead>\n",
              "    <tr style=\"text-align: right;\">\n",
              "      <th></th>\n",
              "      <th>0</th>\n",
              "    </tr>\n",
              "  </thead>\n",
              "  <tbody>\n",
              "    <tr>\n",
              "      <th>id</th>\n",
              "      <td>0</td>\n",
              "    </tr>\n",
              "    <tr>\n",
              "      <th>city</th>\n",
              "      <td>0</td>\n",
              "    </tr>\n",
              "    <tr>\n",
              "      <th>country</th>\n",
              "      <td>0</td>\n",
              "    </tr>\n",
              "    <tr>\n",
              "      <th>region</th>\n",
              "      <td>0</td>\n",
              "    </tr>\n",
              "    <tr>\n",
              "      <th>short_description</th>\n",
              "      <td>0</td>\n",
              "    </tr>\n",
              "    <tr>\n",
              "      <th>latitude</th>\n",
              "      <td>0</td>\n",
              "    </tr>\n",
              "    <tr>\n",
              "      <th>longitude</th>\n",
              "      <td>0</td>\n",
              "    </tr>\n",
              "    <tr>\n",
              "      <th>avg_temp_monthly</th>\n",
              "      <td>0</td>\n",
              "    </tr>\n",
              "    <tr>\n",
              "      <th>ideal_durations</th>\n",
              "      <td>0</td>\n",
              "    </tr>\n",
              "    <tr>\n",
              "      <th>budget_level</th>\n",
              "      <td>0</td>\n",
              "    </tr>\n",
              "    <tr>\n",
              "      <th>culture</th>\n",
              "      <td>0</td>\n",
              "    </tr>\n",
              "    <tr>\n",
              "      <th>adventure</th>\n",
              "      <td>0</td>\n",
              "    </tr>\n",
              "    <tr>\n",
              "      <th>nature</th>\n",
              "      <td>0</td>\n",
              "    </tr>\n",
              "    <tr>\n",
              "      <th>beaches</th>\n",
              "      <td>0</td>\n",
              "    </tr>\n",
              "    <tr>\n",
              "      <th>nightlife</th>\n",
              "      <td>0</td>\n",
              "    </tr>\n",
              "    <tr>\n",
              "      <th>cuisine</th>\n",
              "      <td>0</td>\n",
              "    </tr>\n",
              "    <tr>\n",
              "      <th>wellness</th>\n",
              "      <td>0</td>\n",
              "    </tr>\n",
              "    <tr>\n",
              "      <th>urban</th>\n",
              "      <td>0</td>\n",
              "    </tr>\n",
              "    <tr>\n",
              "      <th>seclusion</th>\n",
              "      <td>0</td>\n",
              "    </tr>\n",
              "    <tr>\n",
              "      <th>avg_temp_july</th>\n",
              "      <td>0</td>\n",
              "    </tr>\n",
              "    <tr>\n",
              "      <th>avg_temp_dec</th>\n",
              "      <td>0</td>\n",
              "    </tr>\n",
              "  </tbody>\n",
              "</table>\n",
              "</div><br><label><b>dtype:</b> int64</label>"
            ]
          },
          "metadata": {},
          "execution_count": 11
        }
      ]
    },
    {
      "cell_type": "markdown",
      "source": [
        "Não há valores nulos (faltantes) em nenhuma coluna do conjunto de dados."
      ],
      "metadata": {
        "id": "asx2-dojKVw9"
      }
    },
    {
      "cell_type": "code",
      "source": [
        "# Busca por valores discrepantes ou inconsistentes em colunas numéricas\n",
        "df.describe()"
      ],
      "metadata": {
        "colab": {
          "base_uri": "https://localhost:8080/",
          "height": 300
        },
        "id": "jItcBtbuKOWu",
        "outputId": "6434c079-7b2b-4a00-9539-d28829abd0d7"
      },
      "execution_count": 12,
      "outputs": [
        {
          "output_type": "execute_result",
          "data": {
            "text/plain": [
              "         latitude   longitude    culture   adventure      nature     beaches  \\\n",
              "count  560.000000  560.000000  560.00000  560.000000  560.000000  560.000000   \n",
              "mean    22.502186    7.914665    3.85000    3.178571    3.728571    2.380357   \n",
              "std     27.980022   78.813803    0.81291    0.798190    0.903920    1.435547   \n",
              "min    -54.807306 -175.201808    2.00000    2.000000    2.000000    1.000000   \n",
              "25%      5.268054  -64.439118    3.00000    3.000000    3.000000    1.000000   \n",
              "50%     31.793618   10.711854    4.00000    3.000000    4.000000    2.000000   \n",
              "75%     43.673199   50.020162    4.00000    4.000000    4.000000    3.000000   \n",
              "max     78.719852  179.332896    5.00000    5.000000    5.000000    5.000000   \n",
              "\n",
              "        nightlife     cuisine    wellness       urban   seclusion  \\\n",
              "count  560.000000  560.000000  560.000000  560.000000  560.000000   \n",
              "mean     3.019643    3.792857    3.073214    3.146429    3.028571   \n",
              "std      0.921599    0.679329    0.592134    1.018604    0.989699   \n",
              "min      1.000000    2.000000    2.000000    1.000000    1.000000   \n",
              "25%      2.000000    3.000000    3.000000    2.000000    2.000000   \n",
              "50%      3.000000    4.000000    3.000000    3.000000    3.000000   \n",
              "75%      4.000000    4.000000    3.000000    4.000000    4.000000   \n",
              "max      5.000000    5.000000    5.000000    5.000000    5.000000   \n",
              "\n",
              "       avg_temp_july  avg_temp_dec  \n",
              "count     560.000000    560.000000  \n",
              "mean       22.801607     13.665000  \n",
              "std         6.339866     10.248338  \n",
              "min        -3.500000    -20.900000  \n",
              "25%        18.875000      5.200000  \n",
              "50%        23.900000     13.450000  \n",
              "75%        27.500000     23.625000  \n",
              "max        40.200000     29.800000  "
            ],
            "text/html": [
              "\n",
              "  <div id=\"df-101994c8-bfd4-4f39-a00a-87a02e30218c\" class=\"colab-df-container\">\n",
              "    <div>\n",
              "<style scoped>\n",
              "    .dataframe tbody tr th:only-of-type {\n",
              "        vertical-align: middle;\n",
              "    }\n",
              "\n",
              "    .dataframe tbody tr th {\n",
              "        vertical-align: top;\n",
              "    }\n",
              "\n",
              "    .dataframe thead th {\n",
              "        text-align: right;\n",
              "    }\n",
              "</style>\n",
              "<table border=\"1\" class=\"dataframe\">\n",
              "  <thead>\n",
              "    <tr style=\"text-align: right;\">\n",
              "      <th></th>\n",
              "      <th>latitude</th>\n",
              "      <th>longitude</th>\n",
              "      <th>culture</th>\n",
              "      <th>adventure</th>\n",
              "      <th>nature</th>\n",
              "      <th>beaches</th>\n",
              "      <th>nightlife</th>\n",
              "      <th>cuisine</th>\n",
              "      <th>wellness</th>\n",
              "      <th>urban</th>\n",
              "      <th>seclusion</th>\n",
              "      <th>avg_temp_july</th>\n",
              "      <th>avg_temp_dec</th>\n",
              "    </tr>\n",
              "  </thead>\n",
              "  <tbody>\n",
              "    <tr>\n",
              "      <th>count</th>\n",
              "      <td>560.000000</td>\n",
              "      <td>560.000000</td>\n",
              "      <td>560.00000</td>\n",
              "      <td>560.000000</td>\n",
              "      <td>560.000000</td>\n",
              "      <td>560.000000</td>\n",
              "      <td>560.000000</td>\n",
              "      <td>560.000000</td>\n",
              "      <td>560.000000</td>\n",
              "      <td>560.000000</td>\n",
              "      <td>560.000000</td>\n",
              "      <td>560.000000</td>\n",
              "      <td>560.000000</td>\n",
              "    </tr>\n",
              "    <tr>\n",
              "      <th>mean</th>\n",
              "      <td>22.502186</td>\n",
              "      <td>7.914665</td>\n",
              "      <td>3.85000</td>\n",
              "      <td>3.178571</td>\n",
              "      <td>3.728571</td>\n",
              "      <td>2.380357</td>\n",
              "      <td>3.019643</td>\n",
              "      <td>3.792857</td>\n",
              "      <td>3.073214</td>\n",
              "      <td>3.146429</td>\n",
              "      <td>3.028571</td>\n",
              "      <td>22.801607</td>\n",
              "      <td>13.665000</td>\n",
              "    </tr>\n",
              "    <tr>\n",
              "      <th>std</th>\n",
              "      <td>27.980022</td>\n",
              "      <td>78.813803</td>\n",
              "      <td>0.81291</td>\n",
              "      <td>0.798190</td>\n",
              "      <td>0.903920</td>\n",
              "      <td>1.435547</td>\n",
              "      <td>0.921599</td>\n",
              "      <td>0.679329</td>\n",
              "      <td>0.592134</td>\n",
              "      <td>1.018604</td>\n",
              "      <td>0.989699</td>\n",
              "      <td>6.339866</td>\n",
              "      <td>10.248338</td>\n",
              "    </tr>\n",
              "    <tr>\n",
              "      <th>min</th>\n",
              "      <td>-54.807306</td>\n",
              "      <td>-175.201808</td>\n",
              "      <td>2.00000</td>\n",
              "      <td>2.000000</td>\n",
              "      <td>2.000000</td>\n",
              "      <td>1.000000</td>\n",
              "      <td>1.000000</td>\n",
              "      <td>2.000000</td>\n",
              "      <td>2.000000</td>\n",
              "      <td>1.000000</td>\n",
              "      <td>1.000000</td>\n",
              "      <td>-3.500000</td>\n",
              "      <td>-20.900000</td>\n",
              "    </tr>\n",
              "    <tr>\n",
              "      <th>25%</th>\n",
              "      <td>5.268054</td>\n",
              "      <td>-64.439118</td>\n",
              "      <td>3.00000</td>\n",
              "      <td>3.000000</td>\n",
              "      <td>3.000000</td>\n",
              "      <td>1.000000</td>\n",
              "      <td>2.000000</td>\n",
              "      <td>3.000000</td>\n",
              "      <td>3.000000</td>\n",
              "      <td>2.000000</td>\n",
              "      <td>2.000000</td>\n",
              "      <td>18.875000</td>\n",
              "      <td>5.200000</td>\n",
              "    </tr>\n",
              "    <tr>\n",
              "      <th>50%</th>\n",
              "      <td>31.793618</td>\n",
              "      <td>10.711854</td>\n",
              "      <td>4.00000</td>\n",
              "      <td>3.000000</td>\n",
              "      <td>4.000000</td>\n",
              "      <td>2.000000</td>\n",
              "      <td>3.000000</td>\n",
              "      <td>4.000000</td>\n",
              "      <td>3.000000</td>\n",
              "      <td>3.000000</td>\n",
              "      <td>3.000000</td>\n",
              "      <td>23.900000</td>\n",
              "      <td>13.450000</td>\n",
              "    </tr>\n",
              "    <tr>\n",
              "      <th>75%</th>\n",
              "      <td>43.673199</td>\n",
              "      <td>50.020162</td>\n",
              "      <td>4.00000</td>\n",
              "      <td>4.000000</td>\n",
              "      <td>4.000000</td>\n",
              "      <td>3.000000</td>\n",
              "      <td>4.000000</td>\n",
              "      <td>4.000000</td>\n",
              "      <td>3.000000</td>\n",
              "      <td>4.000000</td>\n",
              "      <td>4.000000</td>\n",
              "      <td>27.500000</td>\n",
              "      <td>23.625000</td>\n",
              "    </tr>\n",
              "    <tr>\n",
              "      <th>max</th>\n",
              "      <td>78.719852</td>\n",
              "      <td>179.332896</td>\n",
              "      <td>5.00000</td>\n",
              "      <td>5.000000</td>\n",
              "      <td>5.000000</td>\n",
              "      <td>5.000000</td>\n",
              "      <td>5.000000</td>\n",
              "      <td>5.000000</td>\n",
              "      <td>5.000000</td>\n",
              "      <td>5.000000</td>\n",
              "      <td>5.000000</td>\n",
              "      <td>40.200000</td>\n",
              "      <td>29.800000</td>\n",
              "    </tr>\n",
              "  </tbody>\n",
              "</table>\n",
              "</div>\n",
              "    <div class=\"colab-df-buttons\">\n",
              "\n",
              "  <div class=\"colab-df-container\">\n",
              "    <button class=\"colab-df-convert\" onclick=\"convertToInteractive('df-101994c8-bfd4-4f39-a00a-87a02e30218c')\"\n",
              "            title=\"Convert this dataframe to an interactive table.\"\n",
              "            style=\"display:none;\">\n",
              "\n",
              "  <svg xmlns=\"http://www.w3.org/2000/svg\" height=\"24px\" viewBox=\"0 -960 960 960\">\n",
              "    <path d=\"M120-120v-720h720v720H120Zm60-500h600v-160H180v160Zm220 220h160v-160H400v160Zm0 220h160v-160H400v160ZM180-400h160v-160H180v160Zm440 0h160v-160H620v160ZM180-180h160v-160H180v160Zm440 0h160v-160H620v160Z\"/>\n",
              "  </svg>\n",
              "    </button>\n",
              "\n",
              "  <style>\n",
              "    .colab-df-container {\n",
              "      display:flex;\n",
              "      gap: 12px;\n",
              "    }\n",
              "\n",
              "    .colab-df-convert {\n",
              "      background-color: #E8F0FE;\n",
              "      border: none;\n",
              "      border-radius: 50%;\n",
              "      cursor: pointer;\n",
              "      display: none;\n",
              "      fill: #1967D2;\n",
              "      height: 32px;\n",
              "      padding: 0 0 0 0;\n",
              "      width: 32px;\n",
              "    }\n",
              "\n",
              "    .colab-df-convert:hover {\n",
              "      background-color: #E2EBFA;\n",
              "      box-shadow: 0px 1px 2px rgba(60, 64, 67, 0.3), 0px 1px 3px 1px rgba(60, 64, 67, 0.15);\n",
              "      fill: #174EA6;\n",
              "    }\n",
              "\n",
              "    .colab-df-buttons div {\n",
              "      margin-bottom: 4px;\n",
              "    }\n",
              "\n",
              "    [theme=dark] .colab-df-convert {\n",
              "      background-color: #3B4455;\n",
              "      fill: #D2E3FC;\n",
              "    }\n",
              "\n",
              "    [theme=dark] .colab-df-convert:hover {\n",
              "      background-color: #434B5C;\n",
              "      box-shadow: 0px 1px 3px 1px rgba(0, 0, 0, 0.15);\n",
              "      filter: drop-shadow(0px 1px 2px rgba(0, 0, 0, 0.3));\n",
              "      fill: #FFFFFF;\n",
              "    }\n",
              "  </style>\n",
              "\n",
              "    <script>\n",
              "      const buttonEl =\n",
              "        document.querySelector('#df-101994c8-bfd4-4f39-a00a-87a02e30218c button.colab-df-convert');\n",
              "      buttonEl.style.display =\n",
              "        google.colab.kernel.accessAllowed ? 'block' : 'none';\n",
              "\n",
              "      async function convertToInteractive(key) {\n",
              "        const element = document.querySelector('#df-101994c8-bfd4-4f39-a00a-87a02e30218c');\n",
              "        const dataTable =\n",
              "          await google.colab.kernel.invokeFunction('convertToInteractive',\n",
              "                                                    [key], {});\n",
              "        if (!dataTable) return;\n",
              "\n",
              "        const docLinkHtml = 'Like what you see? Visit the ' +\n",
              "          '<a target=\"_blank\" href=https://colab.research.google.com/notebooks/data_table.ipynb>data table notebook</a>'\n",
              "          + ' to learn more about interactive tables.';\n",
              "        element.innerHTML = '';\n",
              "        dataTable['output_type'] = 'display_data';\n",
              "        await google.colab.output.renderOutput(dataTable, element);\n",
              "        const docLink = document.createElement('div');\n",
              "        docLink.innerHTML = docLinkHtml;\n",
              "        element.appendChild(docLink);\n",
              "      }\n",
              "    </script>\n",
              "  </div>\n",
              "\n",
              "\n",
              "    <div id=\"df-8430ad2e-012c-48bc-b83d-87263820d5f0\">\n",
              "      <button class=\"colab-df-quickchart\" onclick=\"quickchart('df-8430ad2e-012c-48bc-b83d-87263820d5f0')\"\n",
              "                title=\"Suggest charts\"\n",
              "                style=\"display:none;\">\n",
              "\n",
              "<svg xmlns=\"http://www.w3.org/2000/svg\" height=\"24px\"viewBox=\"0 0 24 24\"\n",
              "     width=\"24px\">\n",
              "    <g>\n",
              "        <path d=\"M19 3H5c-1.1 0-2 .9-2 2v14c0 1.1.9 2 2 2h14c1.1 0 2-.9 2-2V5c0-1.1-.9-2-2-2zM9 17H7v-7h2v7zm4 0h-2V7h2v10zm4 0h-2v-4h2v4z\"/>\n",
              "    </g>\n",
              "</svg>\n",
              "      </button>\n",
              "\n",
              "<style>\n",
              "  .colab-df-quickchart {\n",
              "      --bg-color: #E8F0FE;\n",
              "      --fill-color: #1967D2;\n",
              "      --hover-bg-color: #E2EBFA;\n",
              "      --hover-fill-color: #174EA6;\n",
              "      --disabled-fill-color: #AAA;\n",
              "      --disabled-bg-color: #DDD;\n",
              "  }\n",
              "\n",
              "  [theme=dark] .colab-df-quickchart {\n",
              "      --bg-color: #3B4455;\n",
              "      --fill-color: #D2E3FC;\n",
              "      --hover-bg-color: #434B5C;\n",
              "      --hover-fill-color: #FFFFFF;\n",
              "      --disabled-bg-color: #3B4455;\n",
              "      --disabled-fill-color: #666;\n",
              "  }\n",
              "\n",
              "  .colab-df-quickchart {\n",
              "    background-color: var(--bg-color);\n",
              "    border: none;\n",
              "    border-radius: 50%;\n",
              "    cursor: pointer;\n",
              "    display: none;\n",
              "    fill: var(--fill-color);\n",
              "    height: 32px;\n",
              "    padding: 0;\n",
              "    width: 32px;\n",
              "  }\n",
              "\n",
              "  .colab-df-quickchart:hover {\n",
              "    background-color: var(--hover-bg-color);\n",
              "    box-shadow: 0 1px 2px rgba(60, 64, 67, 0.3), 0 1px 3px 1px rgba(60, 64, 67, 0.15);\n",
              "    fill: var(--button-hover-fill-color);\n",
              "  }\n",
              "\n",
              "  .colab-df-quickchart-complete:disabled,\n",
              "  .colab-df-quickchart-complete:disabled:hover {\n",
              "    background-color: var(--disabled-bg-color);\n",
              "    fill: var(--disabled-fill-color);\n",
              "    box-shadow: none;\n",
              "  }\n",
              "\n",
              "  .colab-df-spinner {\n",
              "    border: 2px solid var(--fill-color);\n",
              "    border-color: transparent;\n",
              "    border-bottom-color: var(--fill-color);\n",
              "    animation:\n",
              "      spin 1s steps(1) infinite;\n",
              "  }\n",
              "\n",
              "  @keyframes spin {\n",
              "    0% {\n",
              "      border-color: transparent;\n",
              "      border-bottom-color: var(--fill-color);\n",
              "      border-left-color: var(--fill-color);\n",
              "    }\n",
              "    20% {\n",
              "      border-color: transparent;\n",
              "      border-left-color: var(--fill-color);\n",
              "      border-top-color: var(--fill-color);\n",
              "    }\n",
              "    30% {\n",
              "      border-color: transparent;\n",
              "      border-left-color: var(--fill-color);\n",
              "      border-top-color: var(--fill-color);\n",
              "      border-right-color: var(--fill-color);\n",
              "    }\n",
              "    40% {\n",
              "      border-color: transparent;\n",
              "      border-right-color: var(--fill-color);\n",
              "      border-top-color: var(--fill-color);\n",
              "    }\n",
              "    60% {\n",
              "      border-color: transparent;\n",
              "      border-right-color: var(--fill-color);\n",
              "    }\n",
              "    80% {\n",
              "      border-color: transparent;\n",
              "      border-right-color: var(--fill-color);\n",
              "      border-bottom-color: var(--fill-color);\n",
              "    }\n",
              "    90% {\n",
              "      border-color: transparent;\n",
              "      border-bottom-color: var(--fill-color);\n",
              "    }\n",
              "  }\n",
              "</style>\n",
              "\n",
              "      <script>\n",
              "        async function quickchart(key) {\n",
              "          const quickchartButtonEl =\n",
              "            document.querySelector('#' + key + ' button');\n",
              "          quickchartButtonEl.disabled = true;  // To prevent multiple clicks.\n",
              "          quickchartButtonEl.classList.add('colab-df-spinner');\n",
              "          try {\n",
              "            const charts = await google.colab.kernel.invokeFunction(\n",
              "                'suggestCharts', [key], {});\n",
              "          } catch (error) {\n",
              "            console.error('Error during call to suggestCharts:', error);\n",
              "          }\n",
              "          quickchartButtonEl.classList.remove('colab-df-spinner');\n",
              "          quickchartButtonEl.classList.add('colab-df-quickchart-complete');\n",
              "        }\n",
              "        (() => {\n",
              "          let quickchartButtonEl =\n",
              "            document.querySelector('#df-8430ad2e-012c-48bc-b83d-87263820d5f0 button');\n",
              "          quickchartButtonEl.style.display =\n",
              "            google.colab.kernel.accessAllowed ? 'block' : 'none';\n",
              "        })();\n",
              "      </script>\n",
              "    </div>\n",
              "\n",
              "    </div>\n",
              "  </div>\n"
            ],
            "application/vnd.google.colaboratory.intrinsic+json": {
              "type": "dataframe",
              "summary": "{\n  \"name\": \"df\",\n  \"rows\": 8,\n  \"fields\": [\n    {\n      \"column\": \"latitude\",\n      \"properties\": {\n        \"dtype\": \"number\",\n        \"std\": 193.8738629978506,\n        \"min\": -54.807306,\n        \"max\": 560.0,\n        \"num_unique_values\": 8,\n        \"samples\": [\n          22.502186322678572,\n          31.79361765,\n          560.0\n        ],\n        \"semantic_type\": \"\",\n        \"description\": \"\"\n      }\n    },\n    {\n      \"column\": \"longitude\",\n      \"properties\": {\n        \"dtype\": \"number\",\n        \"std\": 219.46317345279914,\n        \"min\": -175.201808,\n        \"max\": 560.0,\n        \"num_unique_values\": 8,\n        \"samples\": [\n          7.914664738658413,\n          10.71185405,\n          560.0\n        ],\n        \"semantic_type\": \"\",\n        \"description\": \"\"\n      }\n    },\n    {\n      \"column\": \"culture\",\n      \"properties\": {\n        \"dtype\": \"number\",\n        \"std\": 196.84964347951626,\n        \"min\": 0.8129101414253609,\n        \"max\": 560.0,\n        \"num_unique_values\": 7,\n        \"samples\": [\n          560.0,\n          3.85,\n          4.0\n        ],\n        \"semantic_type\": \"\",\n        \"description\": \"\"\n      }\n    },\n    {\n      \"column\": \"adventure\",\n      \"properties\": {\n        \"dtype\": \"number\",\n        \"std\": 196.93435845346227,\n        \"min\": 0.7981898765128163,\n        \"max\": 560.0,\n        \"num_unique_values\": 7,\n        \"samples\": [\n          560.0,\n          3.1785714285714284,\n          4.0\n        ],\n        \"semantic_type\": \"\",\n        \"description\": \"\"\n      }\n    },\n    {\n      \"column\": \"nature\",\n      \"properties\": {\n        \"dtype\": \"number\",\n        \"std\": 196.8509740216665,\n        \"min\": 0.9039199637093054,\n        \"max\": 560.0,\n        \"num_unique_values\": 7,\n        \"samples\": [\n          560.0,\n          3.7285714285714286,\n          4.0\n        ],\n        \"semantic_type\": \"\",\n        \"description\": \"\"\n      }\n    },\n    {\n      \"column\": \"beaches\",\n      \"properties\": {\n        \"dtype\": \"number\",\n        \"std\": 197.19541885200107,\n        \"min\": 1.0,\n        \"max\": 560.0,\n        \"num_unique_values\": 7,\n        \"samples\": [\n          560.0,\n          2.380357142857143,\n          3.0\n        ],\n        \"semantic_type\": \"\",\n        \"description\": \"\"\n      }\n    },\n    {\n      \"column\": \"nightlife\",\n      \"properties\": {\n        \"dtype\": \"number\",\n        \"std\": 197.03819331183968,\n        \"min\": 0.9215992250499004,\n        \"max\": 560.0,\n        \"num_unique_values\": 8,\n        \"samples\": [\n          3.0196428571428573,\n          3.0,\n          560.0\n        ],\n        \"semantic_type\": \"\",\n        \"description\": \"\"\n      }\n    },\n    {\n      \"column\": \"cuisine\",\n      \"properties\": {\n        \"dtype\": \"number\",\n        \"std\": 196.85949171819334,\n        \"min\": 0.6793286022680378,\n        \"max\": 560.0,\n        \"num_unique_values\": 7,\n        \"samples\": [\n          560.0,\n          3.7928571428571427,\n          4.0\n        ],\n        \"semantic_type\": \"\",\n        \"description\": \"\"\n      }\n    },\n    {\n      \"column\": \"wellness\",\n      \"properties\": {\n        \"dtype\": \"number\",\n        \"std\": 197.0004734359876,\n        \"min\": 0.5921342107901238,\n        \"max\": 560.0,\n        \"num_unique_values\": 6,\n        \"samples\": [\n          560.0,\n          3.0732142857142857,\n          5.0\n        ],\n        \"semantic_type\": \"\",\n        \"description\": \"\"\n      }\n    },\n    {\n      \"column\": \"urban\",\n      \"properties\": {\n        \"dtype\": \"number\",\n        \"std\": 197.02680045540302,\n        \"min\": 1.0,\n        \"max\": 560.0,\n        \"num_unique_values\": 8,\n        \"samples\": [\n          3.1464285714285714,\n          3.0,\n          560.0\n        ],\n        \"semantic_type\": \"\",\n        \"description\": \"\"\n      }\n    },\n    {\n      \"column\": \"seclusion\",\n      \"properties\": {\n        \"dtype\": \"number\",\n        \"std\": 197.0342182229461,\n        \"min\": 0.98969905360848,\n        \"max\": 560.0,\n        \"num_unique_values\": 8,\n        \"samples\": [\n          3.0285714285714285,\n          3.0,\n          560.0\n        ],\n        \"semantic_type\": \"\",\n        \"description\": \"\"\n      }\n    },\n    {\n      \"column\": \"avg_temp_july\",\n      \"properties\": {\n        \"dtype\": \"number\",\n        \"std\": 191.5723864825058,\n        \"min\": -3.5,\n        \"max\": 560.0,\n        \"num_unique_values\": 8,\n        \"samples\": [\n          22.801607142857144,\n          23.9,\n          560.0\n        ],\n        \"semantic_type\": \"\",\n        \"description\": \"\"\n      }\n    },\n    {\n      \"column\": \"avg_temp_dec\",\n      \"properties\": {\n        \"dtype\": \"number\",\n        \"std\": 194.7766281597714,\n        \"min\": -20.9,\n        \"max\": 560.0,\n        \"num_unique_values\": 8,\n        \"samples\": [\n          13.665,\n          13.45,\n          560.0\n        ],\n        \"semantic_type\": \"\",\n        \"description\": \"\"\n      }\n    }\n  ]\n}"
            }
          },
          "metadata": {},
          "execution_count": 12
        }
      ]
    },
    {
      "cell_type": "markdown",
      "source": [
        "Os valores de latitude podem variar em um intervalo de -90 a +90 graus entre o polo norte e o polo sul. Assim, como o mínimo do dataset é -54,81 graus e o máximo é 78,72 graus, os valores estão consistentes.\n",
        "\n",
        "Já para longitude, os valores variam entre -180 e 180 graus do extremo oeste ao extremo leste. No conjunto de dados, os valores de longitude variam entre -175,20 graus e 179,33 graus, ou seja, estão dentro do esperado e são consistentes.\n",
        "\n",
        "Para as colunas de temperatura (avg_temp_july e avg_temp_dec), o mínimo apresentado é de -3,5°C e -20,9°C e o máximo de 40,2°C e 29,8°C. Considerando que a temperaturas mais baixa registrada na Terra foi -89,2°C (Estação Vostok, Antártica) e que as temperatiras típicas em regiões extremamente frias ficam por volta de -50°C. Considerando ainda que a temperatura mais alta já registrada foi 56,7°C (Vale da Morte, Califórnia) e que a temperatura típica de regiões extremamente quentes é por volta de 45°C, as temperaturas apresentadas no dataset (mínima, média e máxima) estão consistentes.\n",
        "\n",
        "Para as demais colunas numéricas — culture, adventure, nature, beaches, nightlife, cuisine, wellness, urban e seclusion — os valores variam dentro do intervalo de 1 a 5, representando as avaliações em cada categoria. Os dados dessas colunas também se mostram coerentes e consistentes, conforme evidenciado na tabela."
      ],
      "metadata": {
        "id": "OBPA6MeRKky6"
      }
    },
    {
      "cell_type": "code",
      "source": [
        "# Busca por valores discrepantes ou inconsistentes em colunas categóricas\n",
        "df['budget_level'].unique()"
      ],
      "metadata": {
        "colab": {
          "base_uri": "https://localhost:8080/"
        },
        "id": "iFpDJSEZMtn0",
        "outputId": "f2badfe2-07bd-411e-efb4-51b8c6268e9e"
      },
      "execution_count": 13,
      "outputs": [
        {
          "output_type": "execute_result",
          "data": {
            "text/plain": [
              "array(['Luxury', 'Mid-range', 'Budget'], dtype=object)"
            ]
          },
          "metadata": {},
          "execution_count": 13
        }
      ]
    },
    {
      "cell_type": "code",
      "source": [
        "df['ideal_durations'].unique()"
      ],
      "metadata": {
        "colab": {
          "base_uri": "https://localhost:8080/"
        },
        "id": "dYRQYeruNn8y",
        "outputId": "d48dadab-193a-42d8-c8d2-2ae81a343f94"
      },
      "execution_count": 14,
      "outputs": [
        {
          "output_type": "execute_result",
          "data": {
            "text/plain": [
              "array(['[\"Short trip\",\"One week\"]', '[\"Long trip\",\"One week\"]',\n",
              "       '[\"Short trip\",\"Weekend\",\"One week\"]',\n",
              "       '[\"Weekend\",\"One week\",\"Short trip\"]', '[\"Short trip\",\"Weekend\"]',\n",
              "       '[\"Short trip\",\"Weekend\",\"Day trip\"]', '[\"Weekend\",\"Short trip\"]',\n",
              "       '[\"One week\",\"Short trip\"]',\n",
              "       '[\"Long trip\",\"One week\",\"Short trip\"]',\n",
              "       '[\"Short trip\",\"One week\",\"Weekend\"]',\n",
              "       '[\"One week\",\"Short trip\",\"Weekend\"]',\n",
              "       '[\"Day trip\",\"Weekend\",\"Short trip\"]',\n",
              "       '[\"Short trip\",\"One week\",\"Long trip\"]',\n",
              "       '[\"Weekend\",\"Short trip\",\"Day trip\"]', '[\"Day trip\",\"Weekend\"]',\n",
              "       '[\"Weekend\",\"Day trip\"]', '[\"One week\",\"Long trip\"]',\n",
              "       '[\"Long trip\",\"Short trip\",\"One week\"]',\n",
              "       '[\"Short trip\",\"Long trip\",\"One week\"]',\n",
              "       '[\"Weekend\",\"Day trip\",\"Short trip\"]',\n",
              "       '[\"One week\",\"Weekend\",\"Short trip\"]'], dtype=object)"
            ]
          },
          "metadata": {},
          "execution_count": 14
        }
      ]
    },
    {
      "cell_type": "code",
      "source": [
        "df['region'].unique()"
      ],
      "metadata": {
        "colab": {
          "base_uri": "https://localhost:8080/"
        },
        "id": "q9iF0-CxN-kF",
        "outputId": "1a9dbba4-cb55-446e-928c-a2891148d740"
      },
      "execution_count": 15,
      "outputs": [
        {
          "output_type": "execute_result",
          "data": {
            "text/plain": [
              "array(['europe', 'oceania', 'north_america', 'asia', 'africa',\n",
              "       'middle_east', 'south_america'], dtype=object)"
            ]
          },
          "metadata": {},
          "execution_count": 15
        }
      ]
    },
    {
      "cell_type": "code",
      "source": [
        "df['country'].unique()"
      ],
      "metadata": {
        "colab": {
          "base_uri": "https://localhost:8080/"
        },
        "id": "sQXuZyKvN0Qi",
        "outputId": "5492640f-0449-4b10-8c0f-4ad0f9167970"
      },
      "execution_count": 16,
      "outputs": [
        {
          "output_type": "execute_result",
          "data": {
            "text/plain": [
              "array(['Italy', 'Fiji', 'Canada', 'Mexico', 'Indonesia', 'Greenland',\n",
              "       'Namibia', 'Jamaica', 'Greece', 'Georgia', 'Germany', 'Australia',\n",
              "       'Japan', 'Netherlands', 'Myanmar', 'Sweden', 'United States',\n",
              "       'Norway', 'Belgium', 'Iceland', 'South Korea', 'Turkey', 'Ireland',\n",
              "       'Zambia', 'Poland', 'Jordan', 'Maldives', 'American Samoa',\n",
              "       'Angola', 'Barbados', 'Spain', 'Benin', 'Bosnia and Herzegovina',\n",
              "       'Albania', 'Brazil', 'Cambodia', 'Morocco', 'Mozambique',\n",
              "       'Tanzania', 'Bermuda', 'Chile', 'China', 'Nepal', 'New Zealand',\n",
              "       'Colombia', 'Cook Islands', 'North Macedonia', 'Croatia', 'Panama',\n",
              "       'Dominican Republic', 'Ecuador', 'Egypt', 'Peru', 'France',\n",
              "       'Equatorial Guinea', 'Eswatini', 'Bulgaria', 'San Marino',\n",
              "       'Finland', 'Sri Lanka', 'Senegal', 'Singapore', 'Slovenia',\n",
              "       'Malta', 'Guyana', 'Vietnam', 'India', 'Hungary', 'Monaco',\n",
              "       'Taiwan', 'New Caledonia', 'Kenya', 'Lesotho', 'Qatar',\n",
              "       'Kazakhstan', 'Laos', 'Lithuania', 'Montenegro', 'Malaysia',\n",
              "       'Mauritius', 'Oman', 'South Africa', 'Moldova', 'Suriname',\n",
              "       'Thailand', 'United Kingdom', 'Nicaragua', 'Puerto Rico',\n",
              "       'Paraguay', 'Philippines', 'Switzerland', 'Portugal',\n",
              "       'Sierra Leone', 'Quebec', 'Réunion', 'Romania', 'Saint Lucia',\n",
              "       'São Tomé and Príncipe', 'Seychelles', 'Ukraine', 'Madagascar',\n",
              "       'Togo', 'Trinidad and Tobago', 'Tunisia', 'Argentina',\n",
              "       'U.S. Virgin Islands', 'Turkmenistan', 'Uzbekistan', 'Bangladesh',\n",
              "       'Kyrgyzstan', 'Palau', 'Grenada', 'Papua New Guinea', 'Malawi',\n",
              "       'Venezuela', 'Bhutan', 'Pakistan', 'Czech Republic',\n",
              "       'Saint Kitts and Nevis', 'Solomon Islands', 'Costa Rica', 'Tonga',\n",
              "       'Vanuatu', 'Turks and Caicos', 'Tajikistan', 'Austria',\n",
              "       'Azerbaijan', 'Belarus', 'Bolivia', 'Burundi', 'Cameroon',\n",
              "       'Cape Verde', 'Kosovo', 'Serbia', 'Cyprus', 'Cuba', 'Dominica',\n",
              "       'Estonia', 'Gabon', 'Ivory Coast', 'Luxembourg', 'Latvia',\n",
              "       'Mongolia', 'Republic of the Congo', 'Rwanda', 'Samoa', 'Uganda',\n",
              "       'Bahrain', 'Uruguay', 'Comoros', 'French Polynesia', 'Gambia',\n",
              "       'Guatemala', 'United Arab Emirates', 'El Salvador', 'Ghana',\n",
              "       'French Guiana', 'Slovakia', 'Hong Kong', 'Belize', 'Zimbabwe',\n",
              "       'Russia', 'Tuvalu', 'Iran', 'Kuwait', 'Denmark', 'Botswana'],\n",
              "      dtype=object)"
            ]
          },
          "metadata": {},
          "execution_count": 16
        }
      ]
    },
    {
      "cell_type": "markdown",
      "source": [
        "Os dados categóricos analisados estão consistentes e corretos. A única observação possível diz respeito à forma como algumas regiões foram nomeadas ou agrupadas. Por exemplo, o dataset separa o continente americano em north_america e south_america, enquanto em algumas abordagens ele poderia ser tratado como uma única unidade. Além disso, há a inclusão de territórios e regiões não soberanas como se fossem países — como é o caso de Quebec, uma província do Canadá. No entanto, essas escolhas não configuram necessariamente uma inconsistência, mas sim uma questão de definição adotada na construção do dataset."
      ],
      "metadata": {
        "id": "SkN1t2_OOSO6"
      }
    },
    {
      "cell_type": "markdown",
      "source": [
        "## Estatísticas Descritivas\n",
        "\n",
        "Estatísticas descritivas fornecem um resumo das características numéricas, incluindo média, desvio padrão, mínimo, máximo e quartis."
      ],
      "metadata": {
        "id": "M-bS4g_ECPoP"
      }
    },
    {
      "cell_type": "markdown",
      "source": [
        "### Média\n",
        "\n",
        "A média é uma medida de tendência central que representa o valor típico ou o ponto de equilíbrio de um conjunto de dados. É calculada somando-se todos os valores e dividindo-se pelo número total de observações. É sensível a valores extremos (outliers)."
      ],
      "metadata": {
        "id": "sWPH7rj8Ck6v"
      }
    },
    {
      "cell_type": "code",
      "source": [
        "# média dos atributos numéricos do dataset\n",
        "df.describe().loc['mean']"
      ],
      "metadata": {
        "colab": {
          "base_uri": "https://localhost:8080/",
          "height": 492
        },
        "id": "vm3QIAb-CZbt",
        "outputId": "e7194566-8d67-478c-9688-d0a4b48073e8"
      },
      "execution_count": 17,
      "outputs": [
        {
          "output_type": "execute_result",
          "data": {
            "text/plain": [
              "latitude         22.502186\n",
              "longitude         7.914665\n",
              "culture           3.850000\n",
              "adventure         3.178571\n",
              "nature            3.728571\n",
              "beaches           2.380357\n",
              "nightlife         3.019643\n",
              "cuisine           3.792857\n",
              "wellness          3.073214\n",
              "urban             3.146429\n",
              "seclusion         3.028571\n",
              "avg_temp_july    22.801607\n",
              "avg_temp_dec     13.665000\n",
              "Name: mean, dtype: float64"
            ],
            "text/html": [
              "<div>\n",
              "<style scoped>\n",
              "    .dataframe tbody tr th:only-of-type {\n",
              "        vertical-align: middle;\n",
              "    }\n",
              "\n",
              "    .dataframe tbody tr th {\n",
              "        vertical-align: top;\n",
              "    }\n",
              "\n",
              "    .dataframe thead th {\n",
              "        text-align: right;\n",
              "    }\n",
              "</style>\n",
              "<table border=\"1\" class=\"dataframe\">\n",
              "  <thead>\n",
              "    <tr style=\"text-align: right;\">\n",
              "      <th></th>\n",
              "      <th>mean</th>\n",
              "    </tr>\n",
              "  </thead>\n",
              "  <tbody>\n",
              "    <tr>\n",
              "      <th>latitude</th>\n",
              "      <td>22.502186</td>\n",
              "    </tr>\n",
              "    <tr>\n",
              "      <th>longitude</th>\n",
              "      <td>7.914665</td>\n",
              "    </tr>\n",
              "    <tr>\n",
              "      <th>culture</th>\n",
              "      <td>3.850000</td>\n",
              "    </tr>\n",
              "    <tr>\n",
              "      <th>adventure</th>\n",
              "      <td>3.178571</td>\n",
              "    </tr>\n",
              "    <tr>\n",
              "      <th>nature</th>\n",
              "      <td>3.728571</td>\n",
              "    </tr>\n",
              "    <tr>\n",
              "      <th>beaches</th>\n",
              "      <td>2.380357</td>\n",
              "    </tr>\n",
              "    <tr>\n",
              "      <th>nightlife</th>\n",
              "      <td>3.019643</td>\n",
              "    </tr>\n",
              "    <tr>\n",
              "      <th>cuisine</th>\n",
              "      <td>3.792857</td>\n",
              "    </tr>\n",
              "    <tr>\n",
              "      <th>wellness</th>\n",
              "      <td>3.073214</td>\n",
              "    </tr>\n",
              "    <tr>\n",
              "      <th>urban</th>\n",
              "      <td>3.146429</td>\n",
              "    </tr>\n",
              "    <tr>\n",
              "      <th>seclusion</th>\n",
              "      <td>3.028571</td>\n",
              "    </tr>\n",
              "    <tr>\n",
              "      <th>avg_temp_july</th>\n",
              "      <td>22.801607</td>\n",
              "    </tr>\n",
              "    <tr>\n",
              "      <th>avg_temp_dec</th>\n",
              "      <td>13.665000</td>\n",
              "    </tr>\n",
              "  </tbody>\n",
              "</table>\n",
              "</div><br><label><b>dtype:</b> float64</label>"
            ]
          },
          "metadata": {},
          "execution_count": 17
        }
      ]
    },
    {
      "cell_type": "markdown",
      "source": [
        "- Latitude (22,5)\n",
        "  - A média da latitude (22,50) sugere que as cidades estão em regiões tropicais ou subtropicais (próximas ao Trópico de Câncer).\n",
        "- Longitude (7,91)\n",
        "  - A média de longitude (7,91) indica que as cidades estão concentradas no Hemisfério Oriental, possivelmente na Europa, África ou Ásia.\n",
        "\n",
        "- avg_temp_july (22,80°C):\n",
        "  - A temperatura média em julho é agradável, típica de regiões com verões moderados.\n",
        "- avg_temp_dec (13,66°C):\n",
        "  - A temperatura média em dezembro é mais baixa, indicando que as cidades estão em regiões com invernos suaves.\n",
        "\n",
        "- Culture (3,85), Cuisine (3,79) e Nature (3,73):\n",
        "  - Apresentam médias mais altas, indicando que, nas cidades avaliadas, predominam altas notas nesses indicadores, sugerindo que essas características são mais presentes.\n",
        "\n",
        "- Adventure (3,18), Nightlife (3,01), Wellness (3,07), Urban (3,14) e Seclusion (3,02):\n",
        "  - Apresentam médias equilibradas, próximas ao valor central do intervalo possível. Sugerindo que o conjunto de dados apresenta cidades com valores equilibrados nesses indicadores ou que eles se concentram no valor central do intervalo. Para uma análise mais precisa, seria importante avaliar o desvio padrão para entender a dispersão dos dados.\n",
        "\n",
        "- Beaches (2,38):\n",
        "  - As praias têm a menor média dentro os indicadores, sugerindo que a maioria das cidades do *dataset* não é conhecida pela qualidade e acessibilidade das praias próximas."
      ],
      "metadata": {
        "id": "8uoVyd9YRATI"
      }
    },
    {
      "cell_type": "code",
      "source": [
        "sns.barplot(\n",
        "    data=df,\n",
        "    x='avg_temp_july',\n",
        "    estimator='mean',\n",
        "    errorbar=None,\n",
        "    color=sns.color_palette('Dark2')[0]\n",
        ")\n",
        "plt.title('Média de Temperatura em Julho (°C)', fontsize=14)\n",
        "\n",
        "\n",
        "plt.show()"
      ],
      "metadata": {
        "colab": {
          "base_uri": "https://localhost:8080/",
          "height": 474
        },
        "id": "1eFrIXD5ZQI2",
        "outputId": "b4322e64-5c0e-4ffd-ff4e-5974c6b529d4"
      },
      "execution_count": 18,
      "outputs": [
        {
          "output_type": "display_data",
          "data": {
            "text/plain": [
              "<Figure size 640x480 with 1 Axes>"
            ],
            "image/png": "[encoded data removed]"
          },
          "metadata": {}
        }
      ]
    },
    {
      "cell_type": "code",
      "source": [
        "sns.barplot(\n",
        "    data=df,\n",
        "    x='beaches',\n",
        "    estimator='mean',\n",
        "    errorbar=None,\n",
        "    color=sns.color_palette('Dark2')[1]\n",
        ")\n",
        "plt.title('Média do Indicador Beaches no Dataset', fontsize=14)\n",
        "plt.show()"
      ],
      "metadata": {
        "colab": {
          "base_uri": "https://localhost:8080/",
          "height": 473
        },
        "id": "pNDpM3iHRs2g",
        "outputId": "0d2ab5ec-8eed-476c-8c35-5e59f36fbb97"
      },
      "execution_count": 19,
      "outputs": [
        {
          "output_type": "display_data",
          "data": {
            "text/plain": [
              "<Figure size 640x480 with 1 Axes>"
            ],
            "image/png": "[encoded data removed]"
          },
          "metadata": {}
        }
      ]
    },
    {
      "cell_type": "code",
      "source": [
        "sns.barplot(\n",
        "    data=df,\n",
        "    x='latitude',\n",
        "    estimator='mean',\n",
        "    errorbar=None,\n",
        "    color=sns.color_palette('Dark2')[2]\n",
        ")\n",
        "plt.title('Média da Latitude no Dataset', fontsize=14)\n",
        "plt.show()"
      ],
      "metadata": {
        "colab": {
          "base_uri": "https://localhost:8080/",
          "height": 473
        },
        "id": "rjyVVrdaYF2s",
        "outputId": "622511d8-726c-4cda-af41-db8760ea9dec"
      },
      "execution_count": 20,
      "outputs": [
        {
          "output_type": "display_data",
          "data": {
            "text/plain": [
              "<Figure size 640x480 with 1 Axes>"
            ],
            "image/png": "[encoded data removed]"
          },
          "metadata": {}
        }
      ]
    },
    {
      "cell_type": "markdown",
      "source": [
        "### Desvio Padrão\n",
        "\n",
        "O desvio padrão é uma medida de dispersão que quantifica a quantidade de variação ou dispersão de um conjunto de valores. Um desvio padrão baixo indica que os pontos de dados tendem a estar próximos da média do conjunto, enquanto um desvio padrão alto indica que os pontos de dados estão espalhados por uma faixa maior de valores. Ele é a raiz quadrada da variância."
      ],
      "metadata": {
        "id": "MHRKK0YmCmUw"
      }
    },
    {
      "cell_type": "code",
      "source": [
        "# desvio padrão dos atributos numéricos do dataset\n",
        "df.describe().loc['std']"
      ],
      "metadata": {
        "colab": {
          "base_uri": "https://localhost:8080/",
          "height": 492
        },
        "id": "aBIXqi0fCwSH",
        "outputId": "06fb08cf-71c3-40b5-d09f-833ca4301925"
      },
      "execution_count": 21,
      "outputs": [
        {
          "output_type": "execute_result",
          "data": {
            "text/plain": [
              "latitude         27.980022\n",
              "longitude        78.813803\n",
              "culture           0.812910\n",
              "adventure         0.798190\n",
              "nature            0.903920\n",
              "beaches           1.435547\n",
              "nightlife         0.921599\n",
              "cuisine           0.679329\n",
              "wellness          0.592134\n",
              "urban             1.018604\n",
              "seclusion         0.989699\n",
              "avg_temp_july     6.339866\n",
              "avg_temp_dec     10.248338\n",
              "Name: std, dtype: float64"
            ],
            "text/html": [
              "<div>\n",
              "<style scoped>\n",
              "    .dataframe tbody tr th:only-of-type {\n",
              "        vertical-align: middle;\n",
              "    }\n",
              "\n",
              "    .dataframe tbody tr th {\n",
              "        vertical-align: top;\n",
              "    }\n",
              "\n",
              "    .dataframe thead th {\n",
              "        text-align: right;\n",
              "    }\n",
              "</style>\n",
              "<table border=\"1\" class=\"dataframe\">\n",
              "  <thead>\n",
              "    <tr style=\"text-align: right;\">\n",
              "      <th></th>\n",
              "      <th>std</th>\n",
              "    </tr>\n",
              "  </thead>\n",
              "  <tbody>\n",
              "    <tr>\n",
              "      <th>latitude</th>\n",
              "      <td>27.980022</td>\n",
              "    </tr>\n",
              "    <tr>\n",
              "      <th>longitude</th>\n",
              "      <td>78.813803</td>\n",
              "    </tr>\n",
              "    <tr>\n",
              "      <th>culture</th>\n",
              "      <td>0.812910</td>\n",
              "    </tr>\n",
              "    <tr>\n",
              "      <th>adventure</th>\n",
              "      <td>0.798190</td>\n",
              "    </tr>\n",
              "    <tr>\n",
              "      <th>nature</th>\n",
              "      <td>0.903920</td>\n",
              "    </tr>\n",
              "    <tr>\n",
              "      <th>beaches</th>\n",
              "      <td>1.435547</td>\n",
              "    </tr>\n",
              "    <tr>\n",
              "      <th>nightlife</th>\n",
              "      <td>0.921599</td>\n",
              "    </tr>\n",
              "    <tr>\n",
              "      <th>cuisine</th>\n",
              "      <td>0.679329</td>\n",
              "    </tr>\n",
              "    <tr>\n",
              "      <th>wellness</th>\n",
              "      <td>0.592134</td>\n",
              "    </tr>\n",
              "    <tr>\n",
              "      <th>urban</th>\n",
              "      <td>1.018604</td>\n",
              "    </tr>\n",
              "    <tr>\n",
              "      <th>seclusion</th>\n",
              "      <td>0.989699</td>\n",
              "    </tr>\n",
              "    <tr>\n",
              "      <th>avg_temp_july</th>\n",
              "      <td>6.339866</td>\n",
              "    </tr>\n",
              "    <tr>\n",
              "      <th>avg_temp_dec</th>\n",
              "      <td>10.248338</td>\n",
              "    </tr>\n",
              "  </tbody>\n",
              "</table>\n",
              "</div><br><label><b>dtype:</b> float64</label>"
            ]
          },
          "metadata": {},
          "execution_count": 21
        }
      ]
    },
    {
      "cell_type": "markdown",
      "source": [
        "- Latitude (27,98) e Longitude (78,81):\n",
        "  - Os altos desvios padrão indicam que as cidades estão distribuídas em uma ampla faixa geográfica, abrangendo diferentes regiões do mundo.\n",
        "\n",
        "- Culture (0,81) e Cuisine (0,67):\n",
        "  - Apresentam médias altas (Culture = 3,85) (Cuisine = 3,79) e desvios padrão relativamente baixos, indicando que essas características são consistentemente presentes nas cidades avaliadas, com pouca variação entre elas (apresentam notas altas nos indicadores na maior parte do conjunto de dados).\n",
        "\n",
        "- Adventure (0,79), Nightlife (0,92) e Nature (0,90):\n",
        "  - Apresentam médias moderadas (Adventure = 3,18), (Nightlife = 3,01) e (Nature = 3,73) e desvios padrão também moderados, sugerindo que algumas cidades se destacam mais nesses aspectos, enquanto outras menos.\n",
        "\n",
        "- Beaches (1,43):\n",
        "  - Apresenta o maior desvio padrão entre os indicadores de viagem, combinado com a média mais baixa (Beaches = 2,38), sugerindo que há grande disparidade: algumas cidades têm muita qualidade e acessibilidade de praias próximas, enquanto outras não possuem essa característica.\n",
        "\n",
        "- Wellness (0,59):\n",
        "  - O menor desvio padrão entre os indicadores de viagem, combinado com uma média moderada (Wellness = 3,07), sugere que o \"bem-estar\" é uniformemente presente nas cidades, sem grandes diferenças.\n",
        "\n",
        "- Urban (1,01) e Seclusion (0,98):\n",
        "  - Os desvios padrão mostram que há variação considerável entre cidades urbanas e isoladas, indicando que algumas cidades são muito metropolitanas, enquanto outras oferecem mais tranquilidade.\n",
        "\n",
        "- avg_temp_july (6,34):\n",
        "  - Apesar da média amena (22,80 °C), o desvio padrão indica variação significativa entre as cidades, com algumas sendo mais quentes e outras mais frias em julho.\n",
        "\n",
        "- avg_temp_dec (10,25):\n",
        "  - O alto desvio padrão combinado com a média (13,66 °C) sugere que as temperaturas em dezembro variam amplamente, com cidades em climas mais frios e outras em climas mais quentes.\n"
      ],
      "metadata": {
        "id": "pKnP9R5-Rgst"
      }
    },
    {
      "cell_type": "code",
      "source": [
        "sns.barplot(\n",
        "    data=df,\n",
        "    x='avg_temp_july',\n",
        "    errorbar='sd',\n",
        "    color=sns.color_palette('Dark2')[0]\n",
        ")\n",
        "plt.title('Média e Desvio Padrão da Temperatura em Julho (°C)', fontsize=14)\n",
        "\n",
        "plt.show()"
      ],
      "metadata": {
        "colab": {
          "base_uri": "https://localhost:8080/",
          "height": 474
        },
        "id": "md2E-mFITJla",
        "outputId": "f5cb7060-b62e-436f-8c3f-11115769be23"
      },
      "execution_count": 22,
      "outputs": [
        {
          "output_type": "display_data",
          "data": {
            "text/plain": [
              "<Figure size 640x480 with 1 Axes>"
            ],
            "image/png": "[encoded data removed]"
          },
          "metadata": {}
        }
      ]
    },
    {
      "cell_type": "code",
      "source": [
        "sns.barplot(\n",
        "    data=df,\n",
        "    x='beaches',\n",
        "    errorbar='sd',\n",
        "    color=sns.color_palette('Dark2')[1]\n",
        ")\n",
        "plt.title('Média e Desvio Padrão do Indicador Beaches no Dataset', fontsize=14)\n",
        "\n",
        "plt.show()"
      ],
      "metadata": {
        "colab": {
          "base_uri": "https://localhost:8080/",
          "height": 473
        },
        "id": "8YO4gLJaTJOX",
        "outputId": "f643b822-bed0-4f17-d3ce-5084bec55721"
      },
      "execution_count": 23,
      "outputs": [
        {
          "output_type": "display_data",
          "data": {
            "text/plain": [
              "<Figure size 640x480 with 1 Axes>"
            ],
            "image/png": "[encoded data removed]"
          },
          "metadata": {}
        }
      ]
    },
    {
      "cell_type": "code",
      "source": [
        "sns.barplot(\n",
        "    data=df,\n",
        "    x='latitude',\n",
        "    errorbar='sd',\n",
        "    color=sns.color_palette('Dark2')[2]\n",
        ")\n",
        "plt.title('Média e Desvio Padrão da Latitude no Dataset', fontsize=14)\n",
        "\n",
        "plt.show()"
      ],
      "metadata": {
        "colab": {
          "base_uri": "https://localhost:8080/",
          "height": 473
        },
        "id": "g0GwmSKbTG5l",
        "outputId": "ebac06de-01b6-47d5-eda5-7b9697415cb0"
      },
      "execution_count": 24,
      "outputs": [
        {
          "output_type": "display_data",
          "data": {
            "text/plain": [
              "<Figure size 640x480 with 1 Axes>"
            ],
            "image/png": "[encoded data removed]"
          },
          "metadata": {}
        }
      ]
    },
    {
      "cell_type": "markdown",
      "source": [
        "## Histograma\n",
        "\n",
        "A distribuição de dados descreve como os valores de uma variável se espalham, ou seja, a frequência com que diferentes valores ocorrem. Entender a distribuição é crucial na análise de dados, pois revela padrões, tendências centrais, dispersão e a presença de valores atípicos (outliers). O histograma é uma ferramenta visual fundamental para representar essa distribuição, mostrando a forma dos dados, se são simétricos ou assimétricos, unimodais ou multimodais.\n",
        "\n",
        "Como o dataset tem 19 colunas, selecionei algumas delas, com base nas medidas de dispersão já analisadas, para entendermos em mais detalhes a distribuição."
      ],
      "metadata": {
        "id": "4tX_H2zZEFwU"
      }
    },
    {
      "cell_type": "markdown",
      "source": [
        "### Temperatura Média (Julho)\n"
      ],
      "metadata": {
        "id": "FSs4jBF7HUnV"
      }
    },
    {
      "cell_type": "code",
      "source": [
        "plt.figure(figsize=(8, 6))\n",
        "\n",
        "sns.histplot(df['avg_temp_july'], kde=True, color=sns.color_palette('Dark2')[0])\n",
        "plt.title('Distribuição da Temperatura Média (Julho)')\n",
        "plt.xlabel('Temperatura (°C)')\n",
        "plt.ylabel('Frequência')\n",
        "plt.show()"
      ],
      "metadata": {
        "id": "MdBuOXxzHI5h",
        "colab": {
          "base_uri": "https://localhost:8080/",
          "height": 565
        },
        "outputId": "532fa974-5920-4d2d-98c9-00d84c16dcbc"
      },
      "execution_count": 25,
      "outputs": [
        {
          "output_type": "display_data",
          "data": {
            "text/plain": [
              "<Figure size 800x600 with 1 Axes>"
            ],
            "image/png": "[encoded data removed]"
          },
          "metadata": {}
        }
      ]
    },
    {
      "cell_type": "markdown",
      "source": [
        "O histograma mostra a distribuição das temperaturas médias em julho para as cidades do dataset, com a maioria concentrada entre 20°C e 30°C, indicando que essas cidades estão em regiões com temperaturas agradáveis e quentes. O pico de frequência ocorre entre 25°C e 30°C, enquanto temperaturas muito baixas, abaixo de 10°C, e muito altas, acima de 30°C, são menos comuns. A curva de densidade sobreposta reforça essa tendência, destacando que a maior parte das cidades apresenta temperaturas moderadas e quentes durante o mês de julho."
      ],
      "metadata": {
        "id": "o7CSWH48HI5h"
      }
    },
    {
      "cell_type": "markdown",
      "source": [
        "### Temperatura Média (Dezembro)"
      ],
      "metadata": {
        "id": "GC3jhtL2HpS5"
      }
    },
    {
      "cell_type": "code",
      "source": [
        "sns.histplot(df['avg_temp_dec'], kde=True, color=sns.color_palette('Dark2')[0])\n",
        "plt.title('Distribuição da Temperatura Média (Dezembro)')\n",
        "plt.xlabel('Temperatura (°C)')\n",
        "plt.ylabel('Frequência')\n",
        "plt.show()"
      ],
      "metadata": {
        "colab": {
          "base_uri": "https://localhost:8080/",
          "height": 472
        },
        "id": "xFULQrKiGPqj",
        "outputId": "bde0ae32-c126-4102-da72-aad6b2ab329b"
      },
      "execution_count": 26,
      "outputs": [
        {
          "output_type": "display_data",
          "data": {
            "text/plain": [
              "<Figure size 640x480 with 1 Axes>"
            ],
            "image/png": "[encoded data removed]"
          },
          "metadata": {}
        }
      ]
    },
    {
      "cell_type": "markdown",
      "source": [
        "Já o histograma da temperatura média em dezembro apresenta uma distribuição mais ampla, com cidades apresentando temperaturas que variam de valores negativos, abaixo de -10°C, até máximas próximas de 30°C. A maior concentração de cidades está entre 0°C e 10°C, indicando que muitas delas estão em regiões com frias, mas não extremas. Há também um segundo pico em torno de 30°C, sugerindo a presença de cidades em regiões tropicais ou do hemisfério sul, onde dezembro corresponde ao verão. A curva de densidade destaca essa dualidade climática, refletindo a diversidade de condições entre cidades de diferentes latitudes e hemisférios."
      ],
      "metadata": {
        "id": "2iQSmHWkGUom"
      }
    },
    {
      "cell_type": "markdown",
      "source": [
        "### Longitude"
      ],
      "metadata": {
        "id": "BPiZK4wghBOB"
      }
    },
    {
      "cell_type": "code",
      "source": [
        "sns.histplot(df['longitude'], kde=True, color=sns.color_palette('Dark2')[0])\n",
        "plt.title('Distribuição da Longitude')\n",
        "plt.xlabel('Longitude')\n",
        "plt.ylabel('Frequência')\n",
        "plt.show()"
      ],
      "metadata": {
        "colab": {
          "base_uri": "https://localhost:8080/",
          "height": 472
        },
        "id": "x6w-0QmVbZjV",
        "outputId": "99dbb90b-10d0-4c6d-d8d8-330ef84ecf02"
      },
      "execution_count": 27,
      "outputs": [
        {
          "output_type": "display_data",
          "data": {
            "text/plain": [
              "<Figure size 640x480 with 1 Axes>"
            ],
            "image/png": "[encoded data removed]"
          },
          "metadata": {}
        }
      ]
    },
    {
      "cell_type": "markdown",
      "source": [
        "O histograma da distribuição de longitude mostra que a maioria das cidades está concentrada em torno de valores próximos a 0°, indicando uma predominância de cidades localizadas próximas ao meridiano de Greenwich, que atravessa a Europa e a África. Há também uma significativa concentração de cidades com longitudes negativas, entre -50° e -100°, representando regiões nas Américas. Longitudes positivas, entre 50° e 100°, indicam cidades localizadas na Ásia e Oceania, embora em menor quantidade."
      ],
      "metadata": {
        "id": "l6a7KO7pbviL"
      }
    },
    {
      "cell_type": "markdown",
      "source": [
        "## Boxplot\n",
        "\n",
        "Para entender as diferenças entre as classes, devemos olhar como se comportam os valores quando agrupadas por elas. Isso nos permite comparar a média, mediana e desvio padrão de cada característica para cidades com budget_level = Budget, Mid-range e Luxury, além de visualizar suas distribuições por meio de boxplots."
      ],
      "metadata": {
        "id": "av_qTo2YERdw"
      }
    },
    {
      "cell_type": "code",
      "source": [
        "# Estatísticas descritivas agrupadas por classe\n",
        "df.groupby('budget_level').describe()"
      ],
      "metadata": {
        "id": "iH6ov-UMHHHJ",
        "colab": {
          "base_uri": "https://localhost:8080/",
          "height": 236
        },
        "outputId": "6fe266fa-127d-41f3-fbf9-face50834fa0"
      },
      "execution_count": 28,
      "outputs": [
        {
          "output_type": "execute_result",
          "data": {
            "text/plain": [
              "             latitude                                                        \\\n",
              "                count       mean        std        min       25%        50%   \n",
              "budget_level                                                                  \n",
              "Budget          145.0  18.394529  22.001487 -49.331956  5.824176  19.758952   \n",
              "Luxury           76.0  25.984331  30.064039 -45.032192 -0.649750  34.852666   \n",
              "Mid-range       339.0  23.478491  29.615170 -54.807306  6.123869  36.139625   \n",
              "\n",
              "                                   longitude             ... avg_temp_july  \\\n",
              "                    75%        max     count       mean  ...           75%   \n",
              "budget_level                                             ...                 \n",
              "Budget        36.800207  58.380121     145.0  29.121098  ...         28.80   \n",
              "Luxury        47.054968  78.719852      76.0   5.563991  ...         26.45   \n",
              "Mid-range     45.373838  68.970665     339.0  -0.628939  ...         27.00   \n",
              "\n",
              "                   avg_temp_dec                                           \\\n",
              "               max        count       mean        std   min   25%    50%   \n",
              "budget_level                                                               \n",
              "Budget        35.8        145.0  16.554483  10.031617 -20.9  8.70  17.90   \n",
              "Luxury        40.2         76.0  12.371053  11.691351  -9.1  2.95   8.95   \n",
              "Mid-range     36.4        339.0  12.719174   9.779671 -14.6  5.45  11.80   \n",
              "\n",
              "                           \n",
              "                75%   max  \n",
              "budget_level               \n",
              "Budget        25.90  29.3  \n",
              "Luxury        24.25  29.8  \n",
              "Mid-range     21.50  29.5  \n",
              "\n",
              "[3 rows x 104 columns]"
            ],
            "text/html": [
              "\n",
              "  <div id=\"df-2d88277b-9989-4860-a0ec-f729de2bf4a8\" class=\"colab-df-container\">\n",
              "    <div>\n",
              "<style scoped>\n",
              "    .dataframe tbody tr th:only-of-type {\n",
              "        vertical-align: middle;\n",
              "    }\n",
              "\n",
              "    .dataframe tbody tr th {\n",
              "        vertical-align: top;\n",
              "    }\n",
              "\n",
              "    .dataframe thead tr th {\n",
              "        text-align: left;\n",
              "    }\n",
              "\n",
              "    .dataframe thead tr:last-of-type th {\n",
              "        text-align: right;\n",
              "    }\n",
              "</style>\n",
              "<table border=\"1\" class=\"dataframe\">\n",
              "  <thead>\n",
              "    <tr>\n",
              "      <th></th>\n",
              "      <th colspan=\"8\" halign=\"left\">latitude</th>\n",
              "      <th colspan=\"2\" halign=\"left\">longitude</th>\n",
              "      <th>...</th>\n",
              "      <th colspan=\"2\" halign=\"left\">avg_temp_july</th>\n",
              "      <th colspan=\"8\" halign=\"left\">avg_temp_dec</th>\n",
              "    </tr>\n",
              "    <tr>\n",
              "      <th></th>\n",
              "      <th>count</th>\n",
              "      <th>mean</th>\n",
              "      <th>std</th>\n",
              "      <th>min</th>\n",
              "      <th>25%</th>\n",
              "      <th>50%</th>\n",
              "      <th>75%</th>\n",
              "      <th>max</th>\n",
              "      <th>count</th>\n",
              "      <th>mean</th>\n",
              "      <th>...</th>\n",
              "      <th>75%</th>\n",
              "      <th>max</th>\n",
              "      <th>count</th>\n",
              "      <th>mean</th>\n",
              "      <th>std</th>\n",
              "      <th>min</th>\n",
              "      <th>25%</th>\n",
              "      <th>50%</th>\n",
              "      <th>75%</th>\n",
              "      <th>max</th>\n",
              "    </tr>\n",
              "    <tr>\n",
              "      <th>budget_level</th>\n",
              "      <th></th>\n",
              "      <th></th>\n",
              "      <th></th>\n",
              "      <th></th>\n",
              "      <th></th>\n",
              "      <th></th>\n",
              "      <th></th>\n",
              "      <th></th>\n",
              "      <th></th>\n",
              "      <th></th>\n",
              "      <th></th>\n",
              "      <th></th>\n",
              "      <th></th>\n",
              "      <th></th>\n",
              "      <th></th>\n",
              "      <th></th>\n",
              "      <th></th>\n",
              "      <th></th>\n",
              "      <th></th>\n",
              "      <th></th>\n",
              "      <th></th>\n",
              "    </tr>\n",
              "  </thead>\n",
              "  <tbody>\n",
              "    <tr>\n",
              "      <th>Budget</th>\n",
              "      <td>145.0</td>\n",
              "      <td>18.394529</td>\n",
              "      <td>22.001487</td>\n",
              "      <td>-49.331956</td>\n",
              "      <td>5.824176</td>\n",
              "      <td>19.758952</td>\n",
              "      <td>36.800207</td>\n",
              "      <td>58.380121</td>\n",
              "      <td>145.0</td>\n",
              "      <td>29.121098</td>\n",
              "      <td>...</td>\n",
              "      <td>28.80</td>\n",
              "      <td>35.8</td>\n",
              "      <td>145.0</td>\n",
              "      <td>16.554483</td>\n",
              "      <td>10.031617</td>\n",
              "      <td>-20.9</td>\n",
              "      <td>8.70</td>\n",
              "      <td>17.90</td>\n",
              "      <td>25.90</td>\n",
              "      <td>29.3</td>\n",
              "    </tr>\n",
              "    <tr>\n",
              "      <th>Luxury</th>\n",
              "      <td>76.0</td>\n",
              "      <td>25.984331</td>\n",
              "      <td>30.064039</td>\n",
              "      <td>-45.032192</td>\n",
              "      <td>-0.649750</td>\n",
              "      <td>34.852666</td>\n",
              "      <td>47.054968</td>\n",
              "      <td>78.719852</td>\n",
              "      <td>76.0</td>\n",
              "      <td>5.563991</td>\n",
              "      <td>...</td>\n",
              "      <td>26.45</td>\n",
              "      <td>40.2</td>\n",
              "      <td>76.0</td>\n",
              "      <td>12.371053</td>\n",
              "      <td>11.691351</td>\n",
              "      <td>-9.1</td>\n",
              "      <td>2.95</td>\n",
              "      <td>8.95</td>\n",
              "      <td>24.25</td>\n",
              "      <td>29.8</td>\n",
              "    </tr>\n",
              "    <tr>\n",
              "      <th>Mid-range</th>\n",
              "      <td>339.0</td>\n",
              "      <td>23.478491</td>\n",
              "      <td>29.615170</td>\n",
              "      <td>-54.807306</td>\n",
              "      <td>6.123869</td>\n",
              "      <td>36.139625</td>\n",
              "      <td>45.373838</td>\n",
              "      <td>68.970665</td>\n",
              "      <td>339.0</td>\n",
              "      <td>-0.628939</td>\n",
              "      <td>...</td>\n",
              "      <td>27.00</td>\n",
              "      <td>36.4</td>\n",
              "      <td>339.0</td>\n",
              "      <td>12.719174</td>\n",
              "      <td>9.779671</td>\n",
              "      <td>-14.6</td>\n",
              "      <td>5.45</td>\n",
              "      <td>11.80</td>\n",
              "      <td>21.50</td>\n",
              "      <td>29.5</td>\n",
              "    </tr>\n",
              "  </tbody>\n",
              "</table>\n",
              "<p>3 rows × 104 columns</p>\n",
              "</div>\n",
              "    <div class=\"colab-df-buttons\">\n",
              "\n",
              "  <div class=\"colab-df-container\">\n",
              "    <button class=\"colab-df-convert\" onclick=\"convertToInteractive('df-2d88277b-9989-4860-a0ec-f729de2bf4a8')\"\n",
              "            title=\"Convert this dataframe to an interactive table.\"\n",
              "            style=\"display:none;\">\n",
              "\n",
              "  <svg xmlns=\"http://www.w3.org/2000/svg\" height=\"24px\" viewBox=\"0 -960 960 960\">\n",
              "    <path d=\"M120-120v-720h720v720H120Zm60-500h600v-160H180v160Zm220 220h160v-160H400v160Zm0 220h160v-160H400v160ZM180-400h160v-160H180v160Zm440 0h160v-160H620v160ZM180-180h160v-160H180v160Zm440 0h160v-160H620v160Z\"/>\n",
              "  </svg>\n",
              "    </button>\n",
              "\n",
              "  <style>\n",
              "    .colab-df-container {\n",
              "      display:flex;\n",
              "      gap: 12px;\n",
              "    }\n",
              "\n",
              "    .colab-df-convert {\n",
              "      background-color: #E8F0FE;\n",
              "      border: none;\n",
              "      border-radius: 50%;\n",
              "      cursor: pointer;\n",
              "      display: none;\n",
              "      fill: #1967D2;\n",
              "      height: 32px;\n",
              "      padding: 0 0 0 0;\n",
              "      width: 32px;\n",
              "    }\n",
              "\n",
              "    .colab-df-convert:hover {\n",
              "      background-color: #E2EBFA;\n",
              "      box-shadow: 0px 1px 2px rgba(60, 64, 67, 0.3), 0px 1px 3px 1px rgba(60, 64, 67, 0.15);\n",
              "      fill: #174EA6;\n",
              "    }\n",
              "\n",
              "    .colab-df-buttons div {\n",
              "      margin-bottom: 4px;\n",
              "    }\n",
              "\n",
              "    [theme=dark] .colab-df-convert {\n",
              "      background-color: #3B4455;\n",
              "      fill: #D2E3FC;\n",
              "    }\n",
              "\n",
              "    [theme=dark] .colab-df-convert:hover {\n",
              "      background-color: #434B5C;\n",
              "      box-shadow: 0px 1px 3px 1px rgba(0, 0, 0, 0.15);\n",
              "      filter: drop-shadow(0px 1px 2px rgba(0, 0, 0, 0.3));\n",
              "      fill: #FFFFFF;\n",
              "    }\n",
              "  </style>\n",
              "\n",
              "    <script>\n",
              "      const buttonEl =\n",
              "        document.querySelector('#df-2d88277b-9989-4860-a0ec-f729de2bf4a8 button.colab-df-convert');\n",
              "      buttonEl.style.display =\n",
              "        google.colab.kernel.accessAllowed ? 'block' : 'none';\n",
              "\n",
              "      async function convertToInteractive(key) {\n",
              "        const element = document.querySelector('#df-2d88277b-9989-4860-a0ec-f729de2bf4a8');\n",
              "        const dataTable =\n",
              "          await google.colab.kernel.invokeFunction('convertToInteractive',\n",
              "                                                    [key], {});\n",
              "        if (!dataTable) return;\n",
              "\n",
              "        const docLinkHtml = 'Like what you see? Visit the ' +\n",
              "          '<a target=\"_blank\" href=https://colab.research.google.com/notebooks/data_table.ipynb>data table notebook</a>'\n",
              "          + ' to learn more about interactive tables.';\n",
              "        element.innerHTML = '';\n",
              "        dataTable['output_type'] = 'display_data';\n",
              "        await google.colab.output.renderOutput(dataTable, element);\n",
              "        const docLink = document.createElement('div');\n",
              "        docLink.innerHTML = docLinkHtml;\n",
              "        element.appendChild(docLink);\n",
              "      }\n",
              "    </script>\n",
              "  </div>\n",
              "\n",
              "\n",
              "    <div id=\"df-7ade37d5-3fed-4715-888b-3ca1b6e9e36b\">\n",
              "      <button class=\"colab-df-quickchart\" onclick=\"quickchart('df-7ade37d5-3fed-4715-888b-3ca1b6e9e36b')\"\n",
              "                title=\"Suggest charts\"\n",
              "                style=\"display:none;\">\n",
              "\n",
              "<svg xmlns=\"http://www.w3.org/2000/svg\" height=\"24px\"viewBox=\"0 0 24 24\"\n",
              "     width=\"24px\">\n",
              "    <g>\n",
              "        <path d=\"M19 3H5c-1.1 0-2 .9-2 2v14c0 1.1.9 2 2 2h14c1.1 0 2-.9 2-2V5c0-1.1-.9-2-2-2zM9 17H7v-7h2v7zm4 0h-2V7h2v10zm4 0h-2v-4h2v4z\"/>\n",
              "    </g>\n",
              "</svg>\n",
              "      </button>\n",
              "\n",
              "<style>\n",
              "  .colab-df-quickchart {\n",
              "      --bg-color: #E8F0FE;\n",
              "      --fill-color: #1967D2;\n",
              "      --hover-bg-color: #E2EBFA;\n",
              "      --hover-fill-color: #174EA6;\n",
              "      --disabled-fill-color: #AAA;\n",
              "      --disabled-bg-color: #DDD;\n",
              "  }\n",
              "\n",
              "  [theme=dark] .colab-df-quickchart {\n",
              "      --bg-color: #3B4455;\n",
              "      --fill-color: #D2E3FC;\n",
              "      --hover-bg-color: #434B5C;\n",
              "      --hover-fill-color: #FFFFFF;\n",
              "      --disabled-bg-color: #3B4455;\n",
              "      --disabled-fill-color: #666;\n",
              "  }\n",
              "\n",
              "  .colab-df-quickchart {\n",
              "    background-color: var(--bg-color);\n",
              "    border: none;\n",
              "    border-radius: 50%;\n",
              "    cursor: pointer;\n",
              "    display: none;\n",
              "    fill: var(--fill-color);\n",
              "    height: 32px;\n",
              "    padding: 0;\n",
              "    width: 32px;\n",
              "  }\n",
              "\n",
              "  .colab-df-quickchart:hover {\n",
              "    background-color: var(--hover-bg-color);\n",
              "    box-shadow: 0 1px 2px rgba(60, 64, 67, 0.3), 0 1px 3px 1px rgba(60, 64, 67, 0.15);\n",
              "    fill: var(--button-hover-fill-color);\n",
              "  }\n",
              "\n",
              "  .colab-df-quickchart-complete:disabled,\n",
              "  .colab-df-quickchart-complete:disabled:hover {\n",
              "    background-color: var(--disabled-bg-color);\n",
              "    fill: var(--disabled-fill-color);\n",
              "    box-shadow: none;\n",
              "  }\n",
              "\n",
              "  .colab-df-spinner {\n",
              "    border: 2px solid var(--fill-color);\n",
              "    border-color: transparent;\n",
              "    border-bottom-color: var(--fill-color);\n",
              "    animation:\n",
              "      spin 1s steps(1) infinite;\n",
              "  }\n",
              "\n",
              "  @keyframes spin {\n",
              "    0% {\n",
              "      border-color: transparent;\n",
              "      border-bottom-color: var(--fill-color);\n",
              "      border-left-color: var(--fill-color);\n",
              "    }\n",
              "    20% {\n",
              "      border-color: transparent;\n",
              "      border-left-color: var(--fill-color);\n",
              "      border-top-color: var(--fill-color);\n",
              "    }\n",
              "    30% {\n",
              "      border-color: transparent;\n",
              "      border-left-color: var(--fill-color);\n",
              "      border-top-color: var(--fill-color);\n",
              "      border-right-color: var(--fill-color);\n",
              "    }\n",
              "    40% {\n",
              "      border-color: transparent;\n",
              "      border-right-color: var(--fill-color);\n",
              "      border-top-color: var(--fill-color);\n",
              "    }\n",
              "    60% {\n",
              "      border-color: transparent;\n",
              "      border-right-color: var(--fill-color);\n",
              "    }\n",
              "    80% {\n",
              "      border-color: transparent;\n",
              "      border-right-color: var(--fill-color);\n",
              "      border-bottom-color: var(--fill-color);\n",
              "    }\n",
              "    90% {\n",
              "      border-color: transparent;\n",
              "      border-bottom-color: var(--fill-color);\n",
              "    }\n",
              "  }\n",
              "</style>\n",
              "\n",
              "      <script>\n",
              "        async function quickchart(key) {\n",
              "          const quickchartButtonEl =\n",
              "            document.querySelector('#' + key + ' button');\n",
              "          quickchartButtonEl.disabled = true;  // To prevent multiple clicks.\n",
              "          quickchartButtonEl.classList.add('colab-df-spinner');\n",
              "          try {\n",
              "            const charts = await google.colab.kernel.invokeFunction(\n",
              "                'suggestCharts', [key], {});\n",
              "          } catch (error) {\n",
              "            console.error('Error during call to suggestCharts:', error);\n",
              "          }\n",
              "          quickchartButtonEl.classList.remove('colab-df-spinner');\n",
              "          quickchartButtonEl.classList.add('colab-df-quickchart-complete');\n",
              "        }\n",
              "        (() => {\n",
              "          let quickchartButtonEl =\n",
              "            document.querySelector('#df-7ade37d5-3fed-4715-888b-3ca1b6e9e36b button');\n",
              "          quickchartButtonEl.style.display =\n",
              "            google.colab.kernel.accessAllowed ? 'block' : 'none';\n",
              "        })();\n",
              "      </script>\n",
              "    </div>\n",
              "\n",
              "    </div>\n",
              "  </div>\n"
            ],
            "application/vnd.google.colaboratory.intrinsic+json": {
              "type": "dataframe"
            }
          },
          "metadata": {},
          "execution_count": 28
        }
      ]
    },
    {
      "cell_type": "markdown",
      "source": [
        "### Indicador *wellness* por Classe\n"
      ],
      "metadata": {
        "id": "vGdPjK0AJIh_"
      }
    },
    {
      "cell_type": "code",
      "source": [
        "# Boxplot do indicador wellness por budget level\n",
        "plt.figure(figsize=(10, 6))\n",
        "sns.boxplot(x='budget_level', y='wellness', data=df, color=sns.color_palette('Dark2')[2])\n",
        "plt.title('Indicador wellness por Budget Level')\n",
        "plt.xlabel('Budget Level')\n",
        "plt.ylabel('Wellness')\n",
        "plt.show()"
      ],
      "metadata": {
        "id": "CXYVIeNfHHHJ",
        "colab": {
          "base_uri": "https://localhost:8080/",
          "height": 564
        },
        "outputId": "649631bc-8345-46d8-b563-6020a9734d7a"
      },
      "execution_count": 29,
      "outputs": [
        {
          "output_type": "display_data",
          "data": {
            "text/plain": [
              "<Figure size 1000x600 with 1 Axes>"
            ],
            "image/png": "[encoded data removed]"
          },
          "metadata": {}
        }
      ]
    },
    {
      "cell_type": "markdown",
      "source": [
        "É um indicador que dispersa bem as três classes de *Budget Level*\n",
        "\n",
        "- Luxury:\n",
        "\t- Apresenta as maiores avaliações em Wellness, com menor dispersão e maior consistência.\n",
        "- Mid-range:\n",
        "\t- Mostra pouca variabilidade, com avaliações bastante concentradas em torno de 3.0, sem destaque em Wellness.\n",
        "- Budget:\n",
        "\t- Tem maior dispersão, com avaliações que variam de moderadas a boas, mas com mediana mais baixa que Luxury."
      ],
      "metadata": {
        "id": "mqwFIROrHHHJ"
      }
    },
    {
      "cell_type": "markdown",
      "source": [
        "### Indicador *cuisine* por Classe"
      ],
      "metadata": {
        "id": "LGYOGoEUg53J"
      }
    },
    {
      "cell_type": "code",
      "source": [
        "# Boxplot do indicador cuisine por budget level\n",
        "plt.figure(figsize=(10, 6))\n",
        "sns.boxplot(x='budget_level', y='cuisine', data=df, color=sns.color_palette('Dark2')[2])\n",
        "plt.title('Indicador cuisine por Budget Level')\n",
        "plt.xlabel('Budget Level')\n",
        "plt.ylabel('Cuisine')\n",
        "plt.show()"
      ],
      "metadata": {
        "colab": {
          "base_uri": "https://localhost:8080/",
          "height": 564
        },
        "id": "spO_61dYJ3c9",
        "outputId": "8e0f420f-b66a-46bf-d03b-ba8f33e50e79"
      },
      "execution_count": 30,
      "outputs": [
        {
          "output_type": "display_data",
          "data": {
            "text/plain": [
              "<Figure size 1000x600 with 1 Axes>"
            ],
            "image/png": "[encoded data removed]"
          },
          "metadata": {}
        }
      ]
    },
    {
      "cell_type": "markdown",
      "source": [
        "\n",
        "A mediana para todas as classes está em torno de 4, indicando que a avaliação deste indicador é consistentemente alta, independentemente do nível de orçamento.\n",
        "\n",
        "- Luxury:\n",
        "\n",
        "\t- Apresenta uma distribuição muito semelhante às outras categorias, com mediana em 4,0 e valores concentrados entre 3,5 e 4,5.\n",
        "\t- Não há evidência de que cidades de luxo tenham avaliações significativamente melhores em gastronomia.\n",
        "\n",
        "- Mid-range:\n",
        "\t- A distribuição é praticamente idêntica à de Luxury, com mediana em 4,0 e valores variando de 2,0 a 5,0.\n",
        "\t- Cidades de nível médio também apresentam avaliações consistentes em gastronomia.\n",
        "\n",
        "- Budget:\n",
        "\t- A mediana e o intervalo interquartil são iguais aos das outras categorias, indicando que cidades econômicas também oferecem boa qualidade e variedade da comida local e do cenário gastronômico."
      ],
      "metadata": {
        "id": "dnoMMeAYzPO-"
      }
    },
    {
      "cell_type": "markdown",
      "source": [
        "### Indicador *beaches* por Classe"
      ],
      "metadata": {
        "id": "WWeoztfrg8BF"
      }
    },
    {
      "cell_type": "code",
      "source": [
        "# Boxplot do indicador beaches por budget level\n",
        "plt.figure(figsize=(10, 6))\n",
        "sns.boxplot(x='budget_level', y='beaches', data=df, color=sns.color_palette('Dark2')[2])\n",
        "plt.title('Indicador beaches por Budget Level')\n",
        "plt.xlabel('Budget Level')\n",
        "plt.ylabel('Beaches')\n",
        "plt.show()"
      ],
      "metadata": {
        "colab": {
          "base_uri": "https://localhost:8080/",
          "height": 564
        },
        "id": "X3sTjg1yhMza",
        "outputId": "fbed6614-665e-4da8-bc0d-a2705ab685b3"
      },
      "execution_count": 31,
      "outputs": [
        {
          "output_type": "display_data",
          "data": {
            "text/plain": [
              "<Figure size 1000x600 with 1 Axes>"
            ],
            "image/png": "[encoded data removed]"
          },
          "metadata": {}
        }
      ]
    },
    {
      "cell_type": "markdown",
      "source": [
        "- Luxury e Mid-range:\n",
        "\t- Ambas as categorias apresentam distribuições muito semelhantes, com medianas em 2,0 e ampla variação no indicador de praias.\n",
        "\n",
        "- Budget:\n",
        "\t- Cidades econômicas têm avaliações mais baixas em Beaches, com mediana em 1,5 e menor variação, indicando que praias de alta qualidade são menos comuns em destinos econômicos."
      ],
      "metadata": {
        "id": "5tozyczdz_6x"
      }
    },
    {
      "cell_type": "markdown",
      "source": [
        "## Matriz de Correlação\n",
        "\n",
        "A matriz de correlação mede a força e a direção de uma relação linear que os atributos numéricos do conjunto de dados podem ter. Valores próximos a 1 indicam uma forte correlação positiva, -1 uma forte correlação negativa, e 0 ausência de correlação linear."
      ],
      "metadata": {
        "id": "3_ERHJAPEZAt"
      }
    },
    {
      "cell_type": "code",
      "source": [
        "plt.figure(figsize=(10, 6))\n",
        "# mapa de calor da matriz de correlação\n",
        "sns.heatmap(df.select_dtypes(include=['number']).corr(), annot=True, fmt=\".2f\")\n",
        "plt.title('Matriz de Correlação das Características Numéricas do Worldwide Travel Cities Dataset')\n",
        "plt.show()"
      ],
      "metadata": {
        "id": "1iSnofo-HF2u",
        "colab": {
          "base_uri": "https://localhost:8080/",
          "height": 632
        },
        "outputId": "7f356519-bdbd-461c-8404-4d5dfd6cf781"
      },
      "execution_count": 32,
      "outputs": [
        {
          "output_type": "display_data",
          "data": {
            "text/plain": [
              "<Figure size 1000x600 with 2 Axes>"
            ],
            "image/png": "[encoded data removed]"
          },
          "metadata": {}
        }
      ]
    },
    {
      "cell_type": "markdown",
      "source": [
        "- Latitude e Temperatura Média em Dezembro (-0,75):\n",
        "   - Forte correlação negativa: como esperado, quanto maior a latitude (mais ao norte), menor a temperatura média em dezembro. Isso reflete o impacto da localização geográfica no clima.\n",
        "\n",
        "- Nightlife e Urban (0,77):\n",
        "   - Forte correlação positiva: cidades com vida noturna ativa tendem a ser mais urbanas. Assim, faz sentido que exista correlação entre os indicadores de  disponibilidade de festas, bares e vida noturna em geral e qualidade do ambiente urbano, incluindo arquitetura, acessibilidade a pé.\n",
        "\n",
        "- Cuisine e Culture (0,56):\n",
        "   - Correlação positiva moderada: cidades com amplo cenário gastronômico também tendem a ter um apelo cultural forte, sugerindo que cultura e culinária podem estar interligadas.\n",
        "\n",
        "- Nature e Adventure (0,70):\n",
        "   - Forte correlação positiva: cidades com disponibilidade de paisagens naturais também tendem a oferecer mais atividades de aventura, como trilhas, esportes ao ar livre, etc.\n",
        "\n",
        "- Seclusion e Nature (0,69):\n",
        "   - Forte correlação positiva: cidades mais isoladas tendem a ter maior proximidade com a natureza, indicando destinos tranquilos e naturais.\n",
        "\n",
        "- Beaches e avg_temp_dec (0,48):\n",
        "   - Correlação positiva moderada: cidades com disponibilidade de praias tendem a ter temperaturas mais altas em dezembro, sugerindo que muitas delas estão em regiões tropicais ou do hemisfério sul.\n",
        "\n",
        "- Seclusion e Nightlife (-0,73):\n",
        "   - Forte correlação negativa: cidades mais isoladas tendem a ter menos vida noturna, o que é esperado em destinos tranquilos e afastados."
      ],
      "metadata": {
        "id": "oz1caOiQHF2u"
      }
    },
    {
      "cell_type": "markdown",
      "source": [
        "# Pré-Processamento de Dados\n",
        "\n",
        "O pré-processamento de dados é uma etapa crucial para preparar os dados para modelagem, garantindo que estejam no formato correto e otimizados para o desempenho do algoritmo."
      ],
      "metadata": {
        "id": "VDovmxgDFcbF"
      }
    },
    {
      "cell_type": "markdown",
      "source": [
        "## Seleção de features\n",
        "\n",
        "Para treinamento do futuro modelo de classificação, nem todas as colunas disponíveis no dataset são necessárias. Colunas como o \"id\" não agregam novas informações e podem confundir o algoritmo ao invés de ajudá-lo. Para isso, a seleção de features é importante."
      ],
      "metadata": {
        "id": "F_dnPYQ1lnSF"
      }
    },
    {
      "cell_type": "code",
      "source": [
        "df_feat = df[['country', 'region', 'latitude', 'longitude', 'ideal_durations', 'budget_level',\n",
        "       'culture', 'adventure', 'nature', 'beaches', 'nightlife', 'cuisine',\n",
        "       'wellness', 'urban', 'seclusion', 'avg_temp_july', 'avg_temp_dec']]"
      ],
      "metadata": {
        "id": "hXxBuWE-lrj6"
      },
      "execution_count": 33,
      "outputs": []
    },
    {
      "cell_type": "markdown",
      "source": [
        "Foram removidas as colunas \"id\", \"city\",  \"short_description\" e  \"avg_temp_monthly\". As colunas \"id\" e \"city\" foram excluídas porque possuem valores únicos por linha, não contribuindo com informações relevantes para a tarefa de classificação. A coluna \"short_description\" foi descartada por conter texto completo, que não seria interpretado adequadamente por um modelo de classificação tradicional, sendo mais apropriada para aplicações de NLP. E a coluna \"avg_temp_monthly\" porque já foi tratada e simplificada nas colunas 'avg_temp_july' e 'avg_temp_dec' para ser utilizada no modelo."
      ],
      "metadata": {
        "id": "ilmrxPiqnM9P"
      }
    },
    {
      "cell_type": "markdown",
      "source": [
        "## One-Hot Encoding para os dados categóricos"
      ],
      "metadata": {
        "id": "Bge3A9uko0Im"
      }
    },
    {
      "cell_type": "code",
      "source": [
        "df_encoded = pd.get_dummies(df_feat, columns=['country', 'region'], drop_first=True)"
      ],
      "metadata": {
        "id": "LvVuxmyapJA8"
      },
      "execution_count": 34,
      "outputs": []
    },
    {
      "cell_type": "code",
      "source": [
        "# Explodir os valores da lista em colunas binárias\n",
        "df_encoded['ideal_durations'] = df_encoded['ideal_durations'].apply(lambda x: eval(x))  # Converter string para lista\n",
        "durations_encoded = df_encoded['ideal_durations'].str.join('|').str.get_dummies()\n",
        "\n",
        "# Concatenar com o DataFrame original\n",
        "df_encoded = pd.concat([df_encoded, durations_encoded], axis=1)\n",
        "df_encoded = df_encoded.drop('ideal_durations', axis=1)"
      ],
      "metadata": {
        "id": "vSTS1grUpI5D"
      },
      "execution_count": 35,
      "outputs": []
    },
    {
      "cell_type": "code",
      "source": [
        "df_encoded.head()"
      ],
      "metadata": {
        "colab": {
          "base_uri": "https://localhost:8080/",
          "height": 273
        },
        "id": "syVizpkJokHF",
        "outputId": "4905f662-8e05-44cc-e09b-99b01ab00101"
      },
      "execution_count": 36,
      "outputs": [
        {
          "output_type": "execute_result",
          "data": {
            "text/plain": [
              "    latitude   longitude budget_level  culture  adventure  nature  beaches  \\\n",
              "0  45.464194    9.189635       Luxury        5          2       2        1   \n",
              "1 -17.290947  177.125786       Luxury        2          4       5        5   \n",
              "2  50.117190 -122.954302       Luxury        3          5       5        2   \n",
              "3  20.987700 -101.000000    Mid-range        5          3       3        1   \n",
              "4  -7.245972  112.737827       Budget        4          3       3        2   \n",
              "\n",
              "   nightlife  cuisine  wellness  ...  region_europe  region_middle_east  \\\n",
              "0          4        5         3  ...           True               False   \n",
              "1          2        3         4  ...          False               False   \n",
              "2          3        3         4  ...          False               False   \n",
              "3          3        4         3  ...          False               False   \n",
              "4          3        4         3  ...          False               False   \n",
              "\n",
              "   region_north_america  region_oceania  region_south_america  Day trip  \\\n",
              "0                 False           False                 False         0   \n",
              "1                 False            True                 False         0   \n",
              "2                  True           False                 False         0   \n",
              "3                  True           False                 False         0   \n",
              "4                 False           False                 False         0   \n",
              "\n",
              "   Long trip  One week  Short trip  Weekend  \n",
              "0          0         1           1        0  \n",
              "1          1         1           0        0  \n",
              "2          0         1           1        1  \n",
              "3          0         1           1        1  \n",
              "4          0         0           1        1  \n",
              "\n",
              "[5 rows x 191 columns]"
            ],
            "text/html": [
              "\n",
              "  <div id=\"df-567bddaf-674f-4586-9cca-d8d3a87931db\" class=\"colab-df-container\">\n",
              "    <div>\n",
              "<style scoped>\n",
              "    .dataframe tbody tr th:only-of-type {\n",
              "        vertical-align: middle;\n",
              "    }\n",
              "\n",
              "    .dataframe tbody tr th {\n",
              "        vertical-align: top;\n",
              "    }\n",
              "\n",
              "    .dataframe thead th {\n",
              "        text-align: right;\n",
              "    }\n",
              "</style>\n",
              "<table border=\"1\" class=\"dataframe\">\n",
              "  <thead>\n",
              "    <tr style=\"text-align: right;\">\n",
              "      <th></th>\n",
              "      <th>latitude</th>\n",
              "      <th>longitude</th>\n",
              "      <th>budget_level</th>\n",
              "      <th>culture</th>\n",
              "      <th>adventure</th>\n",
              "      <th>nature</th>\n",
              "      <th>beaches</th>\n",
              "      <th>nightlife</th>\n",
              "      <th>cuisine</th>\n",
              "      <th>wellness</th>\n",
              "      <th>...</th>\n",
              "      <th>region_europe</th>\n",
              "      <th>region_middle_east</th>\n",
              "      <th>region_north_america</th>\n",
              "      <th>region_oceania</th>\n",
              "      <th>region_south_america</th>\n",
              "      <th>Day trip</th>\n",
              "      <th>Long trip</th>\n",
              "      <th>One week</th>\n",
              "      <th>Short trip</th>\n",
              "      <th>Weekend</th>\n",
              "    </tr>\n",
              "  </thead>\n",
              "  <tbody>\n",
              "    <tr>\n",
              "      <th>0</th>\n",
              "      <td>45.464194</td>\n",
              "      <td>9.189635</td>\n",
              "      <td>Luxury</td>\n",
              "      <td>5</td>\n",
              "      <td>2</td>\n",
              "      <td>2</td>\n",
              "      <td>1</td>\n",
              "      <td>4</td>\n",
              "      <td>5</td>\n",
              "      <td>3</td>\n",
              "      <td>...</td>\n",
              "      <td>True</td>\n",
              "      <td>False</td>\n",
              "      <td>False</td>\n",
              "      <td>False</td>\n",
              "      <td>False</td>\n",
              "      <td>0</td>\n",
              "      <td>0</td>\n",
              "      <td>1</td>\n",
              "      <td>1</td>\n",
              "      <td>0</td>\n",
              "    </tr>\n",
              "    <tr>\n",
              "      <th>1</th>\n",
              "      <td>-17.290947</td>\n",
              "      <td>177.125786</td>\n",
              "      <td>Luxury</td>\n",
              "      <td>2</td>\n",
              "      <td>4</td>\n",
              "      <td>5</td>\n",
              "      <td>5</td>\n",
              "      <td>2</td>\n",
              "      <td>3</td>\n",
              "      <td>4</td>\n",
              "      <td>...</td>\n",
              "      <td>False</td>\n",
              "      <td>False</td>\n",
              "      <td>False</td>\n",
              "      <td>True</td>\n",
              "      <td>False</td>\n",
              "      <td>0</td>\n",
              "      <td>1</td>\n",
              "      <td>1</td>\n",
              "      <td>0</td>\n",
              "      <td>0</td>\n",
              "    </tr>\n",
              "    <tr>\n",
              "      <th>2</th>\n",
              "      <td>50.117190</td>\n",
              "      <td>-122.954302</td>\n",
              "      <td>Luxury</td>\n",
              "      <td>3</td>\n",
              "      <td>5</td>\n",
              "      <td>5</td>\n",
              "      <td>2</td>\n",
              "      <td>3</td>\n",
              "      <td>3</td>\n",
              "      <td>4</td>\n",
              "      <td>...</td>\n",
              "      <td>False</td>\n",
              "      <td>False</td>\n",
              "      <td>True</td>\n",
              "      <td>False</td>\n",
              "      <td>False</td>\n",
              "      <td>0</td>\n",
              "      <td>0</td>\n",
              "      <td>1</td>\n",
              "      <td>1</td>\n",
              "      <td>1</td>\n",
              "    </tr>\n",
              "    <tr>\n",
              "      <th>3</th>\n",
              "      <td>20.987700</td>\n",
              "      <td>-101.000000</td>\n",
              "      <td>Mid-range</td>\n",
              "      <td>5</td>\n",
              "      <td>3</td>\n",
              "      <td>3</td>\n",
              "      <td>1</td>\n",
              "      <td>3</td>\n",
              "      <td>4</td>\n",
              "      <td>3</td>\n",
              "      <td>...</td>\n",
              "      <td>False</td>\n",
              "      <td>False</td>\n",
              "      <td>True</td>\n",
              "      <td>False</td>\n",
              "      <td>False</td>\n",
              "      <td>0</td>\n",
              "      <td>0</td>\n",
              "      <td>1</td>\n",
              "      <td>1</td>\n",
              "      <td>1</td>\n",
              "    </tr>\n",
              "    <tr>\n",
              "      <th>4</th>\n",
              "      <td>-7.245972</td>\n",
              "      <td>112.737827</td>\n",
              "      <td>Budget</td>\n",
              "      <td>4</td>\n",
              "      <td>3</td>\n",
              "      <td>3</td>\n",
              "      <td>2</td>\n",
              "      <td>3</td>\n",
              "      <td>4</td>\n",
              "      <td>3</td>\n",
              "      <td>...</td>\n",
              "      <td>False</td>\n",
              "      <td>False</td>\n",
              "      <td>False</td>\n",
              "      <td>False</td>\n",
              "      <td>False</td>\n",
              "      <td>0</td>\n",
              "      <td>0</td>\n",
              "      <td>0</td>\n",
              "      <td>1</td>\n",
              "      <td>1</td>\n",
              "    </tr>\n",
              "  </tbody>\n",
              "</table>\n",
              "<p>5 rows × 191 columns</p>\n",
              "</div>\n",
              "    <div class=\"colab-df-buttons\">\n",
              "\n",
              "  <div class=\"colab-df-container\">\n",
              "    <button class=\"colab-df-convert\" onclick=\"convertToInteractive('df-567bddaf-674f-4586-9cca-d8d3a87931db')\"\n",
              "            title=\"Convert this dataframe to an interactive table.\"\n",
              "            style=\"display:none;\">\n",
              "\n",
              "  <svg xmlns=\"http://www.w3.org/2000/svg\" height=\"24px\" viewBox=\"0 -960 960 960\">\n",
              "    <path d=\"M120-120v-720h720v720H120Zm60-500h600v-160H180v160Zm220 220h160v-160H400v160Zm0 220h160v-160H400v160ZM180-400h160v-160H180v160Zm440 0h160v-160H620v160ZM180-180h160v-160H180v160Zm440 0h160v-160H620v160Z\"/>\n",
              "  </svg>\n",
              "    </button>\n",
              "\n",
              "  <style>\n",
              "    .colab-df-container {\n",
              "      display:flex;\n",
              "      gap: 12px;\n",
              "    }\n",
              "\n",
              "    .colab-df-convert {\n",
              "      background-color: #E8F0FE;\n",
              "      border: none;\n",
              "      border-radius: 50%;\n",
              "      cursor: pointer;\n",
              "      display: none;\n",
              "      fill: #1967D2;\n",
              "      height: 32px;\n",
              "      padding: 0 0 0 0;\n",
              "      width: 32px;\n",
              "    }\n",
              "\n",
              "    .colab-df-convert:hover {\n",
              "      background-color: #E2EBFA;\n",
              "      box-shadow: 0px 1px 2px rgba(60, 64, 67, 0.3), 0px 1px 3px 1px rgba(60, 64, 67, 0.15);\n",
              "      fill: #174EA6;\n",
              "    }\n",
              "\n",
              "    .colab-df-buttons div {\n",
              "      margin-bottom: 4px;\n",
              "    }\n",
              "\n",
              "    [theme=dark] .colab-df-convert {\n",
              "      background-color: #3B4455;\n",
              "      fill: #D2E3FC;\n",
              "    }\n",
              "\n",
              "    [theme=dark] .colab-df-convert:hover {\n",
              "      background-color: #434B5C;\n",
              "      box-shadow: 0px 1px 3px 1px rgba(0, 0, 0, 0.15);\n",
              "      filter: drop-shadow(0px 1px 2px rgba(0, 0, 0, 0.3));\n",
              "      fill: #FFFFFF;\n",
              "    }\n",
              "  </style>\n",
              "\n",
              "    <script>\n",
              "      const buttonEl =\n",
              "        document.querySelector('#df-567bddaf-674f-4586-9cca-d8d3a87931db button.colab-df-convert');\n",
              "      buttonEl.style.display =\n",
              "        google.colab.kernel.accessAllowed ? 'block' : 'none';\n",
              "\n",
              "      async function convertToInteractive(key) {\n",
              "        const element = document.querySelector('#df-567bddaf-674f-4586-9cca-d8d3a87931db');\n",
              "        const dataTable =\n",
              "          await google.colab.kernel.invokeFunction('convertToInteractive',\n",
              "                                                    [key], {});\n",
              "        if (!dataTable) return;\n",
              "\n",
              "        const docLinkHtml = 'Like what you see? Visit the ' +\n",
              "          '<a target=\"_blank\" href=https://colab.research.google.com/notebooks/data_table.ipynb>data table notebook</a>'\n",
              "          + ' to learn more about interactive tables.';\n",
              "        element.innerHTML = '';\n",
              "        dataTable['output_type'] = 'display_data';\n",
              "        await google.colab.output.renderOutput(dataTable, element);\n",
              "        const docLink = document.createElement('div');\n",
              "        docLink.innerHTML = docLinkHtml;\n",
              "        element.appendChild(docLink);\n",
              "      }\n",
              "    </script>\n",
              "  </div>\n",
              "\n",
              "\n",
              "    <div id=\"df-cdf4e52c-ff0a-4370-b663-2d340c70803c\">\n",
              "      <button class=\"colab-df-quickchart\" onclick=\"quickchart('df-cdf4e52c-ff0a-4370-b663-2d340c70803c')\"\n",
              "                title=\"Suggest charts\"\n",
              "                style=\"display:none;\">\n",
              "\n",
              "<svg xmlns=\"http://www.w3.org/2000/svg\" height=\"24px\"viewBox=\"0 0 24 24\"\n",
              "     width=\"24px\">\n",
              "    <g>\n",
              "        <path d=\"M19 3H5c-1.1 0-2 .9-2 2v14c0 1.1.9 2 2 2h14c1.1 0 2-.9 2-2V5c0-1.1-.9-2-2-2zM9 17H7v-7h2v7zm4 0h-2V7h2v10zm4 0h-2v-4h2v4z\"/>\n",
              "    </g>\n",
              "</svg>\n",
              "      </button>\n",
              "\n",
              "<style>\n",
              "  .colab-df-quickchart {\n",
              "      --bg-color: #E8F0FE;\n",
              "      --fill-color: #1967D2;\n",
              "      --hover-bg-color: #E2EBFA;\n",
              "      --hover-fill-color: #174EA6;\n",
              "      --disabled-fill-color: #AAA;\n",
              "      --disabled-bg-color: #DDD;\n",
              "  }\n",
              "\n",
              "  [theme=dark] .colab-df-quickchart {\n",
              "      --bg-color: #3B4455;\n",
              "      --fill-color: #D2E3FC;\n",
              "      --hover-bg-color: #434B5C;\n",
              "      --hover-fill-color: #FFFFFF;\n",
              "      --disabled-bg-color: #3B4455;\n",
              "      --disabled-fill-color: #666;\n",
              "  }\n",
              "\n",
              "  .colab-df-quickchart {\n",
              "    background-color: var(--bg-color);\n",
              "    border: none;\n",
              "    border-radius: 50%;\n",
              "    cursor: pointer;\n",
              "    display: none;\n",
              "    fill: var(--fill-color);\n",
              "    height: 32px;\n",
              "    padding: 0;\n",
              "    width: 32px;\n",
              "  }\n",
              "\n",
              "  .colab-df-quickchart:hover {\n",
              "    background-color: var(--hover-bg-color);\n",
              "    box-shadow: 0 1px 2px rgba(60, 64, 67, 0.3), 0 1px 3px 1px rgba(60, 64, 67, 0.15);\n",
              "    fill: var(--button-hover-fill-color);\n",
              "  }\n",
              "\n",
              "  .colab-df-quickchart-complete:disabled,\n",
              "  .colab-df-quickchart-complete:disabled:hover {\n",
              "    background-color: var(--disabled-bg-color);\n",
              "    fill: var(--disabled-fill-color);\n",
              "    box-shadow: none;\n",
              "  }\n",
              "\n",
              "  .colab-df-spinner {\n",
              "    border: 2px solid var(--fill-color);\n",
              "    border-color: transparent;\n",
              "    border-bottom-color: var(--fill-color);\n",
              "    animation:\n",
              "      spin 1s steps(1) infinite;\n",
              "  }\n",
              "\n",
              "  @keyframes spin {\n",
              "    0% {\n",
              "      border-color: transparent;\n",
              "      border-bottom-color: var(--fill-color);\n",
              "      border-left-color: var(--fill-color);\n",
              "    }\n",
              "    20% {\n",
              "      border-color: transparent;\n",
              "      border-left-color: var(--fill-color);\n",
              "      border-top-color: var(--fill-color);\n",
              "    }\n",
              "    30% {\n",
              "      border-color: transparent;\n",
              "      border-left-color: var(--fill-color);\n",
              "      border-top-color: var(--fill-color);\n",
              "      border-right-color: var(--fill-color);\n",
              "    }\n",
              "    40% {\n",
              "      border-color: transparent;\n",
              "      border-right-color: var(--fill-color);\n",
              "      border-top-color: var(--fill-color);\n",
              "    }\n",
              "    60% {\n",
              "      border-color: transparent;\n",
              "      border-right-color: var(--fill-color);\n",
              "    }\n",
              "    80% {\n",
              "      border-color: transparent;\n",
              "      border-right-color: var(--fill-color);\n",
              "      border-bottom-color: var(--fill-color);\n",
              "    }\n",
              "    90% {\n",
              "      border-color: transparent;\n",
              "      border-bottom-color: var(--fill-color);\n",
              "    }\n",
              "  }\n",
              "</style>\n",
              "\n",
              "      <script>\n",
              "        async function quickchart(key) {\n",
              "          const quickchartButtonEl =\n",
              "            document.querySelector('#' + key + ' button');\n",
              "          quickchartButtonEl.disabled = true;  // To prevent multiple clicks.\n",
              "          quickchartButtonEl.classList.add('colab-df-spinner');\n",
              "          try {\n",
              "            const charts = await google.colab.kernel.invokeFunction(\n",
              "                'suggestCharts', [key], {});\n",
              "          } catch (error) {\n",
              "            console.error('Error during call to suggestCharts:', error);\n",
              "          }\n",
              "          quickchartButtonEl.classList.remove('colab-df-spinner');\n",
              "          quickchartButtonEl.classList.add('colab-df-quickchart-complete');\n",
              "        }\n",
              "        (() => {\n",
              "          let quickchartButtonEl =\n",
              "            document.querySelector('#df-cdf4e52c-ff0a-4370-b663-2d340c70803c button');\n",
              "          quickchartButtonEl.style.display =\n",
              "            google.colab.kernel.accessAllowed ? 'block' : 'none';\n",
              "        })();\n",
              "      </script>\n",
              "    </div>\n",
              "\n",
              "    </div>\n",
              "  </div>\n"
            ],
            "application/vnd.google.colaboratory.intrinsic+json": {
              "type": "dataframe",
              "variable_name": "df_encoded"
            }
          },
          "metadata": {},
          "execution_count": 36
        }
      ]
    },
    {
      "cell_type": "markdown",
      "source": [
        "## Separação entre dados de treino e teste"
      ],
      "metadata": {
        "id": "oLsaBUBjpz9-"
      }
    },
    {
      "cell_type": "code",
      "source": [
        "# Separar features (X) e target (y)\n",
        "X = df_encoded.drop('budget_level', axis=1)\n",
        "y = df_encoded['budget_level']"
      ],
      "metadata": {
        "id": "82kzmWnHFkb6"
      },
      "execution_count": 37,
      "outputs": []
    },
    {
      "cell_type": "code",
      "source": [
        "# Dividir os dados em conjuntos de treino e teste\n",
        "X_train, X_test, y_train, y_test = train_test_split(X, y, test_size=0.3, random_state=27, stratify=y)"
      ],
      "metadata": {
        "id": "zzxbuTbIeuuU"
      },
      "execution_count": 38,
      "outputs": []
    },
    {
      "cell_type": "code",
      "source": [
        "print(f\"Dimensões de X_train: {X_train.shape}\")\n",
        "print(f\"Dimensões de X_test: {X_test.shape}\")\n",
        "print(f\"Dimensões de y_train: {y_train.shape}\")\n",
        "print(f\"Dimensões de y_test: {y_test.shape}\")"
      ],
      "metadata": {
        "colab": {
          "base_uri": "https://localhost:8080/"
        },
        "id": "SPvN4eP8ewUB",
        "outputId": "916604b4-0d46-492c-d7e2-75a7249a3266"
      },
      "execution_count": 39,
      "outputs": [
        {
          "output_type": "stream",
          "name": "stdout",
          "text": [
            "Dimensões de X_train: (392, 190)\n",
            "Dimensões de X_test: (168, 190)\n",
            "Dimensões de y_train: (392,)\n",
            "Dimensões de y_test: (168,)\n"
          ]
        }
      ]
    },
    {
      "cell_type": "markdown",
      "source": [
        "## Normalização\n",
        "\n",
        "A normalização escala os dados para um intervalo fixo, geralmente entre 0 e 1. É útil quando o algoritmo de machine learning assume que as características estão em uma escala semelhante.\n",
        "\n"
      ],
      "metadata": {
        "id": "7wQ9wP_zGJkk"
      }
    },
    {
      "cell_type": "code",
      "source": [
        "# Inicializar o MinMaxScaler\n",
        "scaler_norm = MinMaxScaler()"
      ],
      "metadata": {
        "id": "IHrDH13DHDDU"
      },
      "execution_count": 40,
      "outputs": []
    },
    {
      "cell_type": "code",
      "source": [
        "# Aprende min e max APENAS de X_train\n",
        "scaler_norm.fit(X_train)\n",
        "X_train_normalized = scaler_norm.transform(X_train)\n",
        "# Usa a média e o desvio padrão aprendidos de X_train\n",
        "X_test_normalized = scaler_norm.transform(X_test)"
      ],
      "metadata": {
        "id": "WULXU6wBezB5"
      },
      "execution_count": 41,
      "outputs": []
    },
    {
      "cell_type": "code",
      "source": [
        "# Exibir as primeiras linhas dos dados normalizados (como DataFrame para melhor visualização)\n",
        "df_normalized = pd.DataFrame(X_train_normalized, columns=X_train.columns)"
      ],
      "metadata": {
        "id": "-fHBl47Ve0NM"
      },
      "execution_count": 42,
      "outputs": []
    },
    {
      "cell_type": "code",
      "source": [
        "print(\"\\nPrimeiras 5 linhas dos dados normalizados (treino):\")\n",
        "print(df_normalized.head())"
      ],
      "metadata": {
        "colab": {
          "base_uri": "https://localhost:8080/"
        },
        "id": "hynX-y4we3Nb",
        "outputId": "c05106ca-5ed6-48b1-f1f6-2d79c4179e5c"
      },
      "execution_count": 43,
      "outputs": [
        {
          "output_type": "stream",
          "name": "stdout",
          "text": [
            "\n",
            "Primeiras 5 linhas dos dados normalizados (treino):\n",
            "   latitude  longitude   culture  adventure    nature  beaches  nightlife  \\\n",
            "0  0.519728   0.835411  0.666667   0.333333  0.000000     0.25       0.75   \n",
            "1  0.694599   0.658847  0.333333   0.000000  0.000000     0.00       0.25   \n",
            "2  0.148614   0.339199  0.333333   0.333333  0.333333     1.00       1.00   \n",
            "3  0.707439   0.683085  1.000000   0.333333  0.333333     0.00       0.25   \n",
            "4  0.814613   0.491144  1.000000   0.000000  0.333333     0.00       0.50   \n",
            "\n",
            "    cuisine  wellness  urban  ...  region_europe  region_middle_east  \\\n",
            "0  0.666667  0.333333   0.75  ...            0.0                 0.0   \n",
            "1  0.333333  0.000000   0.50  ...            0.0                 0.0   \n",
            "2  0.666667  0.333333   0.75  ...            0.0                 0.0   \n",
            "3  0.666667  0.000000   0.50  ...            0.0                 0.0   \n",
            "4  0.666667  0.333333   0.50  ...            1.0                 0.0   \n",
            "\n",
            "   region_north_america  region_oceania  region_south_america  Day trip  \\\n",
            "0                   0.0             0.0                   0.0       0.0   \n",
            "1                   0.0             0.0                   0.0       0.0   \n",
            "2                   0.0             0.0                   1.0       0.0   \n",
            "3                   0.0             0.0                   0.0       0.0   \n",
            "4                   0.0             0.0                   0.0       0.0   \n",
            "\n",
            "   Long trip  One week  Short trip  Weekend  \n",
            "0        0.0       1.0         1.0      1.0  \n",
            "1        0.0       1.0         1.0      0.0  \n",
            "2        0.0       1.0         1.0      1.0  \n",
            "3        0.0       1.0         1.0      1.0  \n",
            "4        0.0       0.0         1.0      1.0  \n",
            "\n",
            "[5 rows x 190 columns]\n"
          ]
        }
      ]
    },
    {
      "cell_type": "code",
      "source": [
        "# Visualização da distribuição após a normalização (exemplo para uma característica)\n",
        "plt.figure(figsize=(8, 6))\n",
        "sns.histplot(df_normalized['avg_temp_july'], kde=True, color=sns.color_palette('Dark2')[0])\n",
        "plt.title('Distribuição da Temperatura Média (Julho)')\n",
        "plt.xlabel('Temperatura (°C)')\n",
        "plt.ylabel('Frequência')\n",
        "plt.show()"
      ],
      "metadata": {
        "id": "y5Ni6N10HDDU",
        "colab": {
          "base_uri": "https://localhost:8080/",
          "height": 565
        },
        "outputId": "082ca65d-f719-4d90-9778-2e50212a0f4d"
      },
      "execution_count": 44,
      "outputs": [
        {
          "output_type": "display_data",
          "data": {
            "text/plain": [
              "<Figure size 800x600 with 1 Axes>"
            ],
            "image/png": "[encoded data removed]"
          },
          "metadata": {}
        }
      ]
    },
    {
      "cell_type": "markdown",
      "source": [
        "É possível notar que o histograma preserva seu formato e distribuição originais, mas com os valores dentro da escala de 0 a 1."
      ],
      "metadata": {
        "id": "Eyb-mWfqHDDU"
      }
    },
    {
      "cell_type": "markdown",
      "source": [
        "## Padronização\n",
        "\n",
        "A padronização (ou Z-score scaling) transforma os dados para ter média 0 e desvio padrão 1. É útil para algoritmos que são sensíveis à escala das características, como SVMs ou redes neurais."
      ],
      "metadata": {
        "id": "UOSAwBz0GOAM"
      }
    },
    {
      "cell_type": "code",
      "source": [
        "# Inicializar o StandardScaler\n",
        "scaler_std = StandardScaler()"
      ],
      "metadata": {
        "id": "08rFvjoEGxb_"
      },
      "execution_count": 45,
      "outputs": []
    },
    {
      "cell_type": "code",
      "source": [
        "# Aprende média e desvio padrão APENAS de X_train\n",
        "scaler_std.fit(X_train)\n",
        "X_train_standardized = scaler_std.transform(X_train)\n",
        "# Usa a média e o desvio padrão aprendidos de X_train\n",
        "X_test_standardized = scaler_std.transform(X_test)"
      ],
      "metadata": {
        "id": "HxKYatnGe96h"
      },
      "execution_count": 46,
      "outputs": []
    },
    {
      "cell_type": "code",
      "source": [
        "# Exibir as primeiras linhas dos dados padronizados (como DataFrame para melhor visualização)\n",
        "df_standardized = pd.DataFrame(X_train_standardized, columns=X_train.columns)"
      ],
      "metadata": {
        "id": "U5wlJdHKfDdp"
      },
      "execution_count": 47,
      "outputs": []
    },
    {
      "cell_type": "code",
      "source": [
        "print(\"\\nPrimeiras 5 linhas dos dados padronizados (treino):\")\n",
        "print(df_standardized.head())"
      ],
      "metadata": {
        "colab": {
          "base_uri": "https://localhost:8080/"
        },
        "id": "fuEUapx7fEzE",
        "outputId": "8862a0ce-e8ee-403b-a84d-46fe014a1bf4"
      },
      "execution_count": 48,
      "outputs": [
        {
          "output_type": "stream",
          "name": "stdout",
          "text": [
            "\n",
            "Primeiras 5 linhas dos dados padronizados (treino):\n",
            "   latitude  longitude   culture  adventure    nature   beaches  nightlife  \\\n",
            "0 -0.219279   1.389642  0.174741  -0.240245 -1.892967 -0.284638   1.035159   \n",
            "1  0.590018   0.595258 -1.048445  -1.512891 -1.892967 -0.995325  -1.072802   \n",
            "2 -1.936777  -0.842881 -1.048445  -0.240245 -0.782124  1.847425   2.089140   \n",
            "3  0.649443   0.704310  1.397926  -0.240245 -0.782124 -0.995325  -1.072802   \n",
            "4  1.145441  -0.159261  1.397926  -1.512891 -0.782124 -0.995325  -0.018821   \n",
            "\n",
            "    cuisine  wellness     urban  ...  region_europe  region_middle_east  \\\n",
            "0  0.304590 -0.109323  0.818622  ...      -0.648298           -0.124676   \n",
            "1 -1.133954 -1.823501 -0.145041  ...      -0.648298           -0.124676   \n",
            "2  0.304590 -0.109323  0.818622  ...      -0.648298           -0.124676   \n",
            "3  0.304590 -1.823501 -0.145041  ...      -0.648298           -0.124676   \n",
            "4  0.304590 -0.109323 -0.145041  ...       1.542501           -0.124676   \n",
            "\n",
            "   region_north_america  region_oceania  region_south_america  Day trip  \\\n",
            "0             -0.445844         -0.3371             -0.337100 -0.199469   \n",
            "1             -0.445844         -0.3371             -0.337100 -0.199469   \n",
            "2             -0.445844         -0.3371              2.966479 -0.199469   \n",
            "3             -0.445844         -0.3371             -0.337100 -0.199469   \n",
            "4             -0.445844         -0.3371             -0.337100 -0.199469   \n",
            "\n",
            "   Long trip  One week  Short trip   Weekend  \n",
            "0  -0.351012  0.636410    0.237915  0.581278  \n",
            "1  -0.351012  0.636410    0.237915 -1.720348  \n",
            "2  -0.351012  0.636410    0.237915  0.581278  \n",
            "3  -0.351012  0.636410    0.237915  0.581278  \n",
            "4  -0.351012 -1.571314    0.237915  0.581278  \n",
            "\n",
            "[5 rows x 190 columns]\n"
          ]
        }
      ]
    },
    {
      "cell_type": "code",
      "source": [
        "# Visualização da distribuição após a padronização (exemplo para uma característica)\n",
        "plt.figure(figsize=(8, 6))\n",
        "sns.histplot(df_standardized['avg_temp_july'], kde=True, color=sns.color_palette('Dark2')[0])\n",
        "plt.title('Distribuição da Temperatura Média (Julho)')\n",
        "plt.xlabel('Temperatura (°C)')\n",
        "plt.ylabel('Frequência')\n",
        "plt.show()"
      ],
      "metadata": {
        "id": "fyfnu7jSGxcA",
        "colab": {
          "base_uri": "https://localhost:8080/",
          "height": 565
        },
        "outputId": "bc8760cb-3cf1-46ef-ef49-c5bf57580f19"
      },
      "execution_count": 49,
      "outputs": [
        {
          "output_type": "display_data",
          "data": {
            "text/plain": [
              "<Figure size 800x600 with 1 Axes>"
            ],
            "image/png": "[encoded data removed]"
          },
          "metadata": {}
        }
      ]
    },
    {
      "cell_type": "markdown",
      "source": [
        "O histograma, após a padronização, mostra que os valores foram transformados para ter uma média próxima de zero e um desvio padrão de um, centralizando a distribuição."
      ],
      "metadata": {
        "id": "zmeMPbfhGxcA"
      }
    },
    {
      "cell_type": "markdown",
      "source": [
        "## Tratamento de Valores Nulos\n",
        "\n",
        "O dataset escolhido não possui valores nulos e por isso, não foi necessário aplicar nenhum tipo de tratamento de valores faltantes"
      ],
      "metadata": {
        "id": "UC1f5d_BGTVB"
      }
    },
    {
      "cell_type": "markdown",
      "source": [
        "# Conclusão\n",
        "\n",
        "As etapas exploradas nesse projeto, de análise e pré processamento do dataset *Worldwide Travel Cities (Ratings and Climate)*, demonstraram a importância de conhecer bem o conjunto de dados antes de iniciar qualquer processo de modelagem. Assim, é possível entender a distribuição dos dados, medidas de dispersão, balanceamento da classe (se houver) entre outros fatores fundamentais.\n",
        "\n",
        "O dataset analisado é limpo e desbalanceado, apresenta três classes e dezoito atributos (além da classe). Apresenta informações numéricas e categóricas divididas em diversos tipos de dados (lista, json, string, float, inteiro, etc). A análise exploratória revelou informações importantes sobre as médias e desvios das variáveis, além de importantes correlações entre elas que depois foram estratificadas nas três classes para melhor entendimento. A etapa de pré-processamento contou com *one-hot encoding* e outras transformações que tranformaram os dados categóricos em numéricos. Também, as etapas de normalização e padronização foram fundamentais para preparar os dados para diversos algoritmos de aprendizado de máquina, garantindo que o modelo possa aprender eficientemente com as relações presentes nos dados.\n",
        "\n",
        "As três hipóteses levantadas foram validadas da seguinte forma:\n",
        "\n",
        "1.   *Existe correlação entre cidades recomendadas com Budget Level  = Luxury e Thematic Rating alto em Wellness?*\n",
        "  - Sim, com base nas análises feitas no *boxplot, a distribuição mostra que cidades com *Budget Level* = *Luxury* têm avaliações significativamente mais altas em Wellness em comparação com as categorias *Budget* e *Mid-range*.\n",
        "\n",
        "2.   *Cidades com alto Thematic Rating em Beaches possuem temperaturas médias maiores (para os meses de julho e dezembro)?*.\n",
        "  - Sim, especialmenrte para o mês de dezembro. De acordo com a matriz de correlação, existe uma correlação positiva moderada entre o indicador Beaches e a temperatura média em dezembro (0,48). Para o mês de julho, a correlação também é positiva, mas fraca (0,14).\n",
        "\n",
        "3.   *Existe correlação entre cidades recomendadas com Budget Level = Luxury e Thematic Rating alto em Cuisine?*\n",
        "  - Não, com base nas análises feitas no *boxplot*, a similaridade entre as distribuições indica que o Thematic Rating de Cuisine não varia significativamente com o Budget Level."
      ],
      "metadata": {
        "id": "OY_GDjf1G-PM"
      }
    }
  ]
}